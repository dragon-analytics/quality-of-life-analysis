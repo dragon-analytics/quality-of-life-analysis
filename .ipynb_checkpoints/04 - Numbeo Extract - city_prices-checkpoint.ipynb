{
 "cells": [
  {
   "cell_type": "markdown",
   "metadata": {},
   "source": [
    "## Numbeo Extract - city_prices"
   ]
  },
  {
   "cell_type": "markdown",
   "metadata": {},
   "source": [
    "To extract from the API of NUmbeo follow the next steps:\n",
    "- Access the url prefix with a request method e.g. `https://www.numbeo.com:8008/api/<DOCUMENT>?api_key=<YOUR_KEY>`\n",
    "- Every document (table) in Numbeo has different parameters to query, for more info go to [API doc](https://www.numbeo.com/api/doc.jsp)"
   ]
  },
  {
   "cell_type": "code",
   "execution_count": 1,
   "metadata": {},
   "outputs": [],
   "source": [
    "import pandas as pd\n",
    "import requests\n",
    "import json\n",
    "from pandas.io.json import json_normalize"
   ]
  },
  {
   "cell_type": "markdown",
   "metadata": {},
   "source": [
    "## Cities "
   ]
  },
  {
   "cell_type": "markdown",
   "metadata": {},
   "source": [
    "**Query parameters:**"
   ]
  },
  {
   "cell_type": "markdown",
   "metadata": {},
   "source": [
    "Parameter name|Description|Mandatory\n",
    "---|---|---\n",
    "api_key|API Key|yes"
   ]
  },
  {
   "cell_type": "code",
   "execution_count": 13,
   "metadata": {},
   "outputs": [],
   "source": [
    "request_cities = requests.get(\"http://www.numbeo.com:8008/api/cities?api_key=\")"
   ]
  },
  {
   "cell_type": "code",
   "execution_count": 14,
   "metadata": {},
   "outputs": [],
   "source": [
    "df_cities = json_normalize(json.loads(request_cities.text)['cities'])"
   ]
  },
  {
   "cell_type": "code",
   "execution_count": 16,
   "metadata": {},
   "outputs": [
    {
     "data": {
      "text/html": [
       "<div>\n",
       "<style scoped>\n",
       "    .dataframe tbody tr th:only-of-type {\n",
       "        vertical-align: middle;\n",
       "    }\n",
       "\n",
       "    .dataframe tbody tr th {\n",
       "        vertical-align: top;\n",
       "    }\n",
       "\n",
       "    .dataframe thead th {\n",
       "        text-align: right;\n",
       "    }\n",
       "</style>\n",
       "<table border=\"1\" class=\"dataframe\">\n",
       "  <thead>\n",
       "    <tr style=\"text-align: right;\">\n",
       "      <th></th>\n",
       "      <th>city</th>\n",
       "      <th>city_id</th>\n",
       "      <th>country</th>\n",
       "      <th>latitude</th>\n",
       "      <th>longitude</th>\n",
       "    </tr>\n",
       "  </thead>\n",
       "  <tbody>\n",
       "    <tr>\n",
       "      <th>0</th>\n",
       "      <td>Abelessa</td>\n",
       "      <td>1</td>\n",
       "      <td>Algeria</td>\n",
       "      <td>22.187777</td>\n",
       "      <td>4.069545</td>\n",
       "    </tr>\n",
       "    <tr>\n",
       "      <th>1</th>\n",
       "      <td>Adrar</td>\n",
       "      <td>2</td>\n",
       "      <td>Algeria</td>\n",
       "      <td>27.875614</td>\n",
       "      <td>-0.290750</td>\n",
       "    </tr>\n",
       "    <tr>\n",
       "      <th>2</th>\n",
       "      <td>Aflu</td>\n",
       "      <td>3</td>\n",
       "      <td>Algeria</td>\n",
       "      <td>34.113883</td>\n",
       "      <td>2.097262</td>\n",
       "    </tr>\n",
       "    <tr>\n",
       "      <th>3</th>\n",
       "      <td>Algiers</td>\n",
       "      <td>4</td>\n",
       "      <td>Algeria</td>\n",
       "      <td>36.752887</td>\n",
       "      <td>3.042048</td>\n",
       "    </tr>\n",
       "    <tr>\n",
       "      <th>4</th>\n",
       "      <td>Annaba</td>\n",
       "      <td>5</td>\n",
       "      <td>Algeria</td>\n",
       "      <td>36.902859</td>\n",
       "      <td>7.755543</td>\n",
       "    </tr>\n",
       "  </tbody>\n",
       "</table>\n",
       "</div>"
      ],
      "text/plain": [
       "       city  city_id  country   latitude  longitude\n",
       "0  Abelessa        1  Algeria  22.187777   4.069545\n",
       "1     Adrar        2  Algeria  27.875614  -0.290750\n",
       "2      Aflu        3  Algeria  34.113883   2.097262\n",
       "3   Algiers        4  Algeria  36.752887   3.042048\n",
       "4    Annaba        5  Algeria  36.902859   7.755543"
      ]
     },
     "execution_count": 16,
     "metadata": {},
     "output_type": "execute_result"
    }
   ],
   "source": [
    "df_cities.head()"
   ]
  },
  {
   "cell_type": "markdown",
   "metadata": {},
   "source": [
    "## City Prices"
   ]
  },
  {
   "cell_type": "markdown",
   "metadata": {},
   "source": [
    "Parameter name|Description|Mandatory\n",
    "---|---|---\n",
    "api_key|API Key|yes\n",
    "query|City Name|yes"
   ]
  },
  {
   "cell_type": "code",
   "execution_count": 10,
   "metadata": {},
   "outputs": [],
   "source": [
    "request = requests.get(\"http://www.numbeo.com:8008/api/city_prices?api_key=&query=Maastricht\")"
   ]
  },
  {
   "cell_type": "code",
   "execution_count": 11,
   "metadata": {},
   "outputs": [
    {
     "data": {
      "text/html": [
       "<div>\n",
       "<style scoped>\n",
       "    .dataframe tbody tr th:only-of-type {\n",
       "        vertical-align: middle;\n",
       "    }\n",
       "\n",
       "    .dataframe tbody tr th {\n",
       "        vertical-align: top;\n",
       "    }\n",
       "\n",
       "    .dataframe thead th {\n",
       "        text-align: right;\n",
       "    }\n",
       "</style>\n",
       "<table border=\"1\" class=\"dataframe\">\n",
       "  <thead>\n",
       "    <tr style=\"text-align: right;\">\n",
       "      <th></th>\n",
       "      <th>average_price</th>\n",
       "      <th>data_points</th>\n",
       "      <th>highest_price</th>\n",
       "      <th>item_id</th>\n",
       "      <th>item_name</th>\n",
       "      <th>lowest_price</th>\n",
       "    </tr>\n",
       "  </thead>\n",
       "  <tbody>\n",
       "    <tr>\n",
       "      <th>0</th>\n",
       "      <td>12.0</td>\n",
       "      <td>11</td>\n",
       "      <td>15.0</td>\n",
       "      <td>1</td>\n",
       "      <td>Meal, Inexpensive Restaurant, Restaurants</td>\n",
       "      <td>10.0</td>\n",
       "    </tr>\n",
       "    <tr>\n",
       "      <th>1</th>\n",
       "      <td>50.0</td>\n",
       "      <td>10</td>\n",
       "      <td>60.0</td>\n",
       "      <td>2</td>\n",
       "      <td>Meal for 2 People, Mid-range Restaurant, Three...</td>\n",
       "      <td>45.0</td>\n",
       "    </tr>\n",
       "    <tr>\n",
       "      <th>2</th>\n",
       "      <td>7.0</td>\n",
       "      <td>10</td>\n",
       "      <td>8.0</td>\n",
       "      <td>3</td>\n",
       "      <td>McMeal at McDonalds (or Equivalent Combo Meal)...</td>\n",
       "      <td>6.5</td>\n",
       "    </tr>\n",
       "    <tr>\n",
       "      <th>3</th>\n",
       "      <td>4.0</td>\n",
       "      <td>9</td>\n",
       "      <td>5.0</td>\n",
       "      <td>4</td>\n",
       "      <td>Domestic Beer (0.5 liter draught), Restaurants</td>\n",
       "      <td>2.5</td>\n",
       "    </tr>\n",
       "    <tr>\n",
       "      <th>4</th>\n",
       "      <td>3.5</td>\n",
       "      <td>9</td>\n",
       "      <td>4.5</td>\n",
       "      <td>5</td>\n",
       "      <td>Imported Beer (0.33 liter bottle), Restaurants</td>\n",
       "      <td>3.0</td>\n",
       "    </tr>\n",
       "  </tbody>\n",
       "</table>\n",
       "</div>"
      ],
      "text/plain": [
       "   average_price  data_points  highest_price  item_id  \\\n",
       "0           12.0           11           15.0        1   \n",
       "1           50.0           10           60.0        2   \n",
       "2            7.0           10            8.0        3   \n",
       "3            4.0            9            5.0        4   \n",
       "4            3.5            9            4.5        5   \n",
       "\n",
       "                                           item_name  lowest_price  \n",
       "0          Meal, Inexpensive Restaurant, Restaurants          10.0  \n",
       "1  Meal for 2 People, Mid-range Restaurant, Three...          45.0  \n",
       "2  McMeal at McDonalds (or Equivalent Combo Meal)...           6.5  \n",
       "3     Domestic Beer (0.5 liter draught), Restaurants           2.5  \n",
       "4     Imported Beer (0.33 liter bottle), Restaurants           3.0  "
      ]
     },
     "execution_count": 11,
     "metadata": {},
     "output_type": "execute_result"
    }
   ],
   "source": [
    "df = json_normalize(json.loads(request.text)['prices'])\n",
    "df.head()"
   ]
  },
  {
   "cell_type": "code",
   "execution_count": null,
   "metadata": {},
   "outputs": [],
   "source": []
  },
  {
   "cell_type": "code",
   "execution_count": null,
   "metadata": {},
   "outputs": [],
   "source": []
  },
  {
   "cell_type": "code",
   "execution_count": 28,
   "metadata": {},
   "outputs": [],
   "source": [
    "request = requests.get(\"http://www.numbeo.com:8008/api/city_prices?api_key=&query=Maastricht\")"
   ]
  },
  {
   "cell_type": "code",
   "execution_count": 29,
   "metadata": {},
   "outputs": [
    {
     "data": {
      "text/html": [
       "<div>\n",
       "<style scoped>\n",
       "    .dataframe tbody tr th:only-of-type {\n",
       "        vertical-align: middle;\n",
       "    }\n",
       "\n",
       "    .dataframe tbody tr th {\n",
       "        vertical-align: top;\n",
       "    }\n",
       "\n",
       "    .dataframe thead th {\n",
       "        text-align: right;\n",
       "    }\n",
       "</style>\n",
       "<table border=\"1\" class=\"dataframe\">\n",
       "  <thead>\n",
       "    <tr style=\"text-align: right;\">\n",
       "      <th></th>\n",
       "      <th>average_price</th>\n",
       "      <th>data_points</th>\n",
       "      <th>highest_price</th>\n",
       "      <th>item_id</th>\n",
       "      <th>item_name</th>\n",
       "      <th>lowest_price</th>\n",
       "    </tr>\n",
       "  </thead>\n",
       "  <tbody>\n",
       "    <tr>\n",
       "      <th>0</th>\n",
       "      <td>12.0</td>\n",
       "      <td>11</td>\n",
       "      <td>15.0</td>\n",
       "      <td>1</td>\n",
       "      <td>Meal, Inexpensive Restaurant, Restaurants</td>\n",
       "      <td>10.0</td>\n",
       "    </tr>\n",
       "    <tr>\n",
       "      <th>1</th>\n",
       "      <td>50.0</td>\n",
       "      <td>10</td>\n",
       "      <td>60.0</td>\n",
       "      <td>2</td>\n",
       "      <td>Meal for 2 People, Mid-range Restaurant, Three...</td>\n",
       "      <td>45.0</td>\n",
       "    </tr>\n",
       "    <tr>\n",
       "      <th>2</th>\n",
       "      <td>7.0</td>\n",
       "      <td>10</td>\n",
       "      <td>8.0</td>\n",
       "      <td>3</td>\n",
       "      <td>McMeal at McDonalds (or Equivalent Combo Meal)...</td>\n",
       "      <td>6.5</td>\n",
       "    </tr>\n",
       "    <tr>\n",
       "      <th>3</th>\n",
       "      <td>4.0</td>\n",
       "      <td>9</td>\n",
       "      <td>5.0</td>\n",
       "      <td>4</td>\n",
       "      <td>Domestic Beer (0.5 liter draught), Restaurants</td>\n",
       "      <td>2.5</td>\n",
       "    </tr>\n",
       "    <tr>\n",
       "      <th>4</th>\n",
       "      <td>3.5</td>\n",
       "      <td>9</td>\n",
       "      <td>4.5</td>\n",
       "      <td>5</td>\n",
       "      <td>Imported Beer (0.33 liter bottle), Restaurants</td>\n",
       "      <td>3.0</td>\n",
       "    </tr>\n",
       "  </tbody>\n",
       "</table>\n",
       "</div>"
      ],
      "text/plain": [
       "   average_price  data_points  highest_price  item_id  \\\n",
       "0           12.0           11           15.0        1   \n",
       "1           50.0           10           60.0        2   \n",
       "2            7.0           10            8.0        3   \n",
       "3            4.0            9            5.0        4   \n",
       "4            3.5            9            4.5        5   \n",
       "\n",
       "                                           item_name  lowest_price  \n",
       "0          Meal, Inexpensive Restaurant, Restaurants          10.0  \n",
       "1  Meal for 2 People, Mid-range Restaurant, Three...          45.0  \n",
       "2  McMeal at McDonalds (or Equivalent Combo Meal)...           6.5  \n",
       "3     Domestic Beer (0.5 liter draught), Restaurants           2.5  \n",
       "4     Imported Beer (0.33 liter bottle), Restaurants           3.0  "
      ]
     },
     "execution_count": 29,
     "metadata": {},
     "output_type": "execute_result"
    }
   ],
   "source": [
    "df = json_normalize(json.loads(request.text)['prices'])\n",
    "df.head()"
   ]
  },
  {
   "cell_type": "code",
   "execution_count": null,
   "metadata": {},
   "outputs": [],
   "source": []
  },
  {
   "cell_type": "code",
   "execution_count": 47,
   "metadata": {},
   "outputs": [],
   "source": [
    "try:\n",
    "    tuples = []\n",
    "    for cities in df_cities['city']:\n",
    "        request = requests.get(\"http://www.numbeo.com:8008/api/city_prices?api_key=&query=\"+str(cities))\n",
    "        table = json_normalize(json.loads(request.text)['prices'])\n",
    "        tuples.append((cities,table))\n",
    "    \n",
    "    tables = {key: value for (key, value) in tuples}\n",
    "    print(tables.keys())\n",
    "except:\n",
    "    pass"
   ]
  },
  {
   "cell_type": "code",
   "execution_count": 52,
   "metadata": {},
   "outputs": [],
   "source": [
    "#for cities in df_cities['city']:\n",
    "#    print(cities)"
   ]
  },
  {
   "cell_type": "code",
   "execution_count": 53,
   "metadata": {},
   "outputs": [
    {
     "data": {
      "text/plain": [
       "13534"
      ]
     },
     "execution_count": 53,
     "metadata": {},
     "output_type": "execute_result"
    }
   ],
   "source": [
    "len(df_cities['city'])"
   ]
  },
  {
   "cell_type": "code",
   "execution_count": null,
   "metadata": {},
   "outputs": [],
   "source": []
  }
 ],
 "metadata": {
  "kernelspec": {
   "display_name": "Python 3",
   "language": "python",
   "name": "python3"
  },
  "language_info": {
   "codemirror_mode": {
    "name": "ipython",
    "version": 3
   },
   "file_extension": ".py",
   "mimetype": "text/x-python",
   "name": "python",
   "nbconvert_exporter": "python",
   "pygments_lexer": "ipython3",
   "version": "3.5.4"
  }
 },
 "nbformat": 4,
 "nbformat_minor": 2
}
