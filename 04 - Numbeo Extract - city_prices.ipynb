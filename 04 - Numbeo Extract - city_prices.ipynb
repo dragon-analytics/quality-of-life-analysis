{
 "cells": [
  {
   "cell_type": "markdown",
   "metadata": {},
   "source": [
    "## Numbeo Extract - city_prices"
   ]
  },
  {
   "cell_type": "markdown",
   "metadata": {},
   "source": [
    "To extract from the API of NUmbeo follow the next steps:\n",
    "- Access the url prefix with a request method e.g. `https://www.numbeo.com:8008/api/<DOCUMENT>?api_key=<YOUR_KEY>`\n",
    "- Every document (table) in Numbeo has different parameters to query, for more info go to [API doc](https://www.numbeo.com/api/doc.jsp)"
   ]
  },
  {
   "cell_type": "code",
   "execution_count": 1,
   "metadata": {},
   "outputs": [],
   "source": [
    "import pandas as pd\n",
    "import requests\n",
    "import json\n",
    "from pandas.io.json import json_normalize"
   ]
  },
  {
   "cell_type": "code",
   "execution_count": 11,
   "metadata": {},
   "outputs": [],
   "source": [
    "request= requests.get(\"http://www.numbeo.com:8008/api/city_prices?api_key=\")"
   ]
  },
  {
   "cell_type": "code",
   "execution_count": 12,
   "metadata": {},
   "outputs": [
    {
     "data": {
      "text/plain": [
       "'{\"error\":\"Couldn\\'t resolve city in your request.\"}\\n'"
      ]
     },
     "execution_count": 12,
     "metadata": {},
     "output_type": "execute_result"
    }
   ],
   "source": [
    "json_parse = json.loads(request.text)\n",
    "request.text"
   ]
  },
  {
   "cell_type": "code",
   "execution_count": 13,
   "metadata": {},
   "outputs": [],
   "source": [
    "request= requests.get(\"http://www.numbeo.com:8008/api/city_prices?api_key=&query=Belgrade\")"
   ]
  },
  {
   "cell_type": "code",
   "execution_count": 20,
   "metadata": {},
   "outputs": [
    {
     "data": {
      "text/plain": [
       "'{\"name\":\"Belgrade, Serbia\",\"currency\":\"RSD\",\"monthLastUpdate\":5,\"contributors\":338,\"yearLastUpdate\":2018,\"prices\":[{\"data_points\":42,\"item_id\":1,\"lowest_price\":500,\"average_price\":600,\"highest_price\":826.9930479046008,\"item_name\":\"Meal, Inexpensive Restaurant, Restaurants\"},{\"data_points\":39,\"item_id\":2,\"lowest_price\":2000,\"average_price\":3000,\"highest_price\":3500,\"item_name\":\"Meal for 2 People, Mid-range Restaurant, Three-course, Restaurants\"},{\"data_points\":39,\"item_id\":3,\"lowest_price\":470,\"average_price\":500,\"highest_price\":600,\"item_name\":\"McMeal at McDonalds (or Equivalent Combo Meal), Restaurants\"},{\"data_points\":44,\"item_id\":4,\"lowest_price\":150,\"average_price\":180,\"highest_price\":220,\"item_name\":\"Domestic Beer (0.5 liter draught), Restaurants\"},{\"data_points\":41,\"item_id\":5,\"lowest_price\":180,\"average_price\":220,\"highest_price\":270,\"item_name\":\"Imported Beer (0.33 liter bottle), Restaurants\"},{\"data_points\":38,\"item_id\":6,\"lowest_price\":100,\"average_price\":154.39918016748857,\"highest_price\":190,\"item_name\":\"Coke/Pepsi (0.33 liter bottle), Restaurants\"},{\"data_points\":47,\"item_id\":7,\"lowest_price\":50,\"average_price\":94.28447237255021,\"highest_price\":140,\"item_name\":\"Water (0.33 liter bottle) , Restaurants\"},{\"data_points\":32,\"item_id\":8,\"lowest_price\":85,\"average_price\":94.46875,\"highest_price\":105,\"item_name\":\"Milk (regular), (1 liter), Markets\"},{\"data_points\":32,\"item_id\":9,\"lowest_price\":39,\"average_price\":45.508023299829645,\"highest_price\":55.11556554621939,\"item_name\":\"Loaf of Fresh White Bread (500g), Markets\"},{\"data_points\":30,\"item_id\":11,\"lowest_price\":142.800000005712,\"average_price\":163.30666667459622,\"highest_price\":200,\"item_name\":\"Eggs (regular) (12), Markets\"},{\"data_points\":27,\"item_id\":12,\"lowest_price\":350,\"average_price\":612.316386741364,\"highest_price\":900,\"item_name\":\"Local Cheese (1kg), Markets\"},{\"data_points\":34,\"item_id\":13,\"lowest_price\":40,\"average_price\":49.411764705882355,\"highest_price\":60,\"item_name\":\"Water (1.5 liter bottle), Markets\"},{\"data_points\":23,\"item_id\":14,\"lowest_price\":350,\"average_price\":500,\"highest_price\":600,\"item_name\":\"Bottle of Wine (Mid-Range), Markets\"},{\"data_points\":29,\"item_id\":15,\"lowest_price\":54,\"average_price\":65.10344827586206,\"highest_price\":95,\"item_name\":\"Domestic Beer (0.5 liter bottle), Markets\"},{\"data_points\":25,\"item_id\":16,\"lowest_price\":80,\"average_price\":100.2,\"highest_price\":140,\"item_name\":\"Imported Beer (0.33 liter bottle), Markets\"},{\"data_points\":24,\"item_id\":17,\"lowest_price\":280,\"average_price\":300,\"highest_price\":320,\"item_name\":\"Cigarettes 20 Pack (Marlboro), Markets\"},{\"data_points\":116,\"item_id\":18,\"lowest_price\":89,\"average_price\":89,\"highest_price\":90,\"item_name\":\"One-way Ticket (Local Transport), Transportation\"},{\"data_points\":23,\"item_id\":19,\"lowest_price\":450,\"average_price\":528.695652173913,\"highest_price\":700,\"item_name\":\"Chicken Breasts (Boneless, Skinless), (1kg), Markets\"},{\"data_points\":96,\"item_id\":20,\"lowest_price\":2999,\"average_price\":3200,\"highest_price\":3500,\"item_name\":\"Monthly Pass (Regular Price), Transportation\"},{\"data_points\":89,\"item_id\":24,\"lowest_price\":142,\"average_price\":148.4876404494382,\"highest_price\":155,\"item_name\":\"Gasoline (1 liter), Transportation\"},{\"data_points\":21,\"item_id\":25,\"lowest_price\":1888000,\"average_price\":2160000,\"highest_price\":2400000,\"item_name\":\"Volkswagen Golf 1.4 90 KW Trendline (Or Equivalent New Car), Transportation\"},{\"data_points\":77,\"item_id\":26,\"lowest_price\":29000,\"average_price\":37754.03068501516,\"highest_price\":50000,\"item_name\":\"Apartment (1 bedroom) in City Centre, Rent Per Month\"},{\"data_points\":75,\"item_id\":27,\"lowest_price\":18000,\"average_price\":22728.943291475298,\"highest_price\":30000,\"item_name\":\"Apartment (1 bedroom) Outside of Centre, Rent Per Month\"},{\"data_points\":66,\"item_id\":28,\"lowest_price\":48000,\"average_price\":72311.03808941203,\"highest_price\":106327.67758773438,\"item_name\":\"Apartment (3 bedrooms) in City Centre, Rent Per Month\"},{\"data_points\":63,\"item_id\":29,\"lowest_price\":30000,\"average_price\":43717.82886771045,\"highest_price\":60000,\"item_name\":\"Apartment (3 bedrooms) Outside of Centre, Rent Per Month\"},{\"data_points\":94,\"item_id\":30,\"lowest_price\":10000,\"average_price\":15748.395907318692,\"highest_price\":20090.90909090909,\"item_name\":\"Basic (Electricity, Heating, Cooling, Water, Garbage) for 85m2 Apartment, Utilities (Monthly)\"},{\"data_points\":48,\"item_id\":32,\"lowest_price\":7.89,\"average_price\":11.847708333333335,\"highest_price\":15,\"item_name\":\"1 min. of Prepaid Mobile Tariff Local (No Discounts or Plans), Utilities (Monthly)\"},{\"data_points\":81,\"item_id\":33,\"lowest_price\":1500,\"average_price\":2408.8443827160495,\"highest_price\":3200,\"item_name\":\"Internet (60 Mbps or More, Unlimited Data, Cable/ADSL), Utilities (Monthly)\"},{\"data_points\":90,\"item_id\":40,\"lowest_price\":2400,\"average_price\":2892.332684440659,\"highest_price\":3500,\"item_name\":\"Fitness Club, Monthly Fee for 1 Adult, Sports And Leisure\"},{\"data_points\":24,\"item_id\":42,\"lowest_price\":600,\"average_price\":1138.6748958333335,\"highest_price\":2500,\"item_name\":\"Tennis Court Rent (1 Hour on Weekend), Sports And Leisure\"},{\"data_points\":93,\"item_id\":44,\"lowest_price\":450,\"average_price\":500,\"highest_price\":600,\"item_name\":\"Cinema, International Release, 1 Seat, Sports And Leisure\"},{\"data_points\":66,\"item_id\":60,\"lowest_price\":3000,\"average_price\":7197.877734531,\"highest_price\":12000,\"item_name\":\"1 Pair of Jeans (Levis 501 Or Similar), Clothing And Shoes\"},{\"data_points\":66,\"item_id\":62,\"lowest_price\":2400,\"average_price\":3529.605533932167,\"highest_price\":5000,\"item_name\":\"1 Summer Dress in a Chain Store (Zara, H&M, ...), Clothing And Shoes\"},{\"data_points\":75,\"item_id\":64,\"lowest_price\":6000,\"average_price\":8572.873806900625,\"highest_price\":12000,\"item_name\":\"1 Pair of Nike Running Shoes (Mid-Range), Clothing And Shoes\"},{\"data_points\":59,\"item_id\":66,\"lowest_price\":7000,\"average_price\":10050.022866422198,\"highest_price\":15000,\"item_name\":\"1 Pair of Men Leather Business Shoes, Clothing And Shoes\"},{\"data_points\":17,\"item_id\":206,\"lowest_price\":1772127.959795573,\"average_price\":2002633.802809901,\"highest_price\":2400000,\"item_name\":\"Toyota Corolla 1.6l 97kW Comfort (Or Equivalent New Car), Transportation\"},{\"data_points\":29,\"item_id\":224,\"lowest_price\":17721.27959795573,\"average_price\":27117.241379310344,\"highest_price\":30000,\"item_name\":\"Preschool (or Kindergarten), Full Day, Private, Monthly for 1 Child, Childcare\"},{\"data_points\":65,\"item_id\":100,\"lowest_price\":210000,\"average_price\":257135.76399947584,\"highest_price\":310000,\"item_name\":\"Price per Square Meter to Buy Apartment in City Centre, Buy Apartment Price\"},{\"data_points\":13,\"item_id\":228,\"lowest_price\":480000,\"average_price\":893887.6651996223,\"highest_price\":1200000,\"item_name\":\"International Primary School, Yearly for 1 Child, Childcare\"},{\"data_points\":69,\"item_id\":101,\"lowest_price\":110000,\"average_price\":141027.819407155,\"highest_price\":180000,\"item_name\":\"Price per Square Meter to Buy Apartment Outside of Centre, Buy Apartment Price\"},{\"data_points\":99,\"item_id\":105,\"lowest_price\":34000,\"average_price\":46236.89479180219,\"highest_price\":59128,\"item_name\":\"Average Monthly Net Salary (After Tax), Salaries And Financing\"},{\"data_points\":22,\"item_id\":106,\"lowest_price\":3,\"average_price\":3.640909090909091,\"highest_price\":5,\"item_name\":\"Mortgage Interest Rate in Percentages (%), Yearly, for 20 Years Fixed-Rate, Salaries And Financing\"},{\"data_points\":85,\"item_id\":107,\"lowest_price\":170,\"average_price\":170,\"highest_price\":180,\"item_name\":\"Taxi Start (Normal Tariff), Transportation\"},{\"data_points\":46,\"item_id\":108,\"lowest_price\":65,\"average_price\":70,\"highest_price\":90,\"item_name\":\"Taxi 1km (Normal Tariff), Transportation\"},{\"data_points\":32,\"item_id\":109,\"lowest_price\":600,\"average_price\":750,\"highest_price\":750,\"item_name\":\"Taxi 1hour Waiting (Normal Tariff), Transportation\"},{\"data_points\":25,\"item_id\":110,\"lowest_price\":70,\"average_price\":94.8,\"highest_price\":120,\"item_name\":\"Apples (1kg), Markets\"},{\"data_points\":24,\"item_id\":111,\"lowest_price\":90,\"average_price\":121.66666666666667,\"highest_price\":180,\"item_name\":\"Oranges (1kg), Markets\"},{\"data_points\":24,\"item_id\":112,\"lowest_price\":40,\"average_price\":55.625,\"highest_price\":80,\"item_name\":\"Potato (1kg), Markets\"},{\"data_points\":17,\"item_id\":113,\"lowest_price\":27,\"average_price\":47.94117647058823,\"highest_price\":70,\"item_name\":\"Lettuce (1 head), Markets\"},{\"data_points\":45,\"item_id\":114,\"lowest_price\":130,\"average_price\":158.9056282121522,\"highest_price\":200,\"item_name\":\"Cappuccino (regular), Restaurants\"},{\"data_points\":21,\"item_id\":115,\"lowest_price\":100,\"average_price\":142.35094332132866,\"highest_price\":220.46226218487757,\"item_name\":\"Rice (white), (1kg), Markets\"},{\"data_points\":21,\"item_id\":116,\"lowest_price\":80,\"average_price\":127.85714285714286,\"highest_price\":200,\"item_name\":\"Tomato (1kg), Markets\"},{\"data_points\":29,\"item_id\":118,\"lowest_price\":115,\"average_price\":135.24137931034483,\"highest_price\":160,\"item_name\":\"Banana (1kg), Markets\"},{\"data_points\":21,\"item_id\":119,\"lowest_price\":35,\"average_price\":52.91136565026016,\"highest_price\":80,\"item_name\":\"Onion (1kg), Markets\"},{\"data_points\":18,\"item_id\":121,\"lowest_price\":550,\"average_price\":683.3333333333334,\"highest_price\":860,\"item_name\":\"Beef Round (1kg) (or Equivalent Back Leg Red Meat), Markets\"}],\"city_id\":6189}\\n'"
      ]
     },
     "execution_count": 20,
     "metadata": {},
     "output_type": "execute_result"
    }
   ],
   "source": [
    "json_parse = json.loads(request.text)\n",
    "request.text"
   ]
  },
  {
   "cell_type": "code",
   "execution_count": 17,
   "metadata": {},
   "outputs": [
    {
     "data": {
      "text/html": [
       "<div>\n",
       "<style scoped>\n",
       "    .dataframe tbody tr th:only-of-type {\n",
       "        vertical-align: middle;\n",
       "    }\n",
       "\n",
       "    .dataframe tbody tr th {\n",
       "        vertical-align: top;\n",
       "    }\n",
       "\n",
       "    .dataframe thead th {\n",
       "        text-align: right;\n",
       "    }\n",
       "</style>\n",
       "<table border=\"1\" class=\"dataframe\">\n",
       "  <thead>\n",
       "    <tr style=\"text-align: right;\">\n",
       "      <th></th>\n",
       "      <th>average_price</th>\n",
       "      <th>data_points</th>\n",
       "      <th>highest_price</th>\n",
       "      <th>item_id</th>\n",
       "      <th>item_name</th>\n",
       "      <th>lowest_price</th>\n",
       "    </tr>\n",
       "  </thead>\n",
       "  <tbody>\n",
       "    <tr>\n",
       "      <th>0</th>\n",
       "      <td>600.0</td>\n",
       "      <td>42</td>\n",
       "      <td>826.993048</td>\n",
       "      <td>1</td>\n",
       "      <td>Meal, Inexpensive Restaurant, Restaurants</td>\n",
       "      <td>500.0</td>\n",
       "    </tr>\n",
       "    <tr>\n",
       "      <th>1</th>\n",
       "      <td>3000.0</td>\n",
       "      <td>39</td>\n",
       "      <td>3500.000000</td>\n",
       "      <td>2</td>\n",
       "      <td>Meal for 2 People, Mid-range Restaurant, Three...</td>\n",
       "      <td>2000.0</td>\n",
       "    </tr>\n",
       "    <tr>\n",
       "      <th>2</th>\n",
       "      <td>500.0</td>\n",
       "      <td>39</td>\n",
       "      <td>600.000000</td>\n",
       "      <td>3</td>\n",
       "      <td>McMeal at McDonalds (or Equivalent Combo Meal)...</td>\n",
       "      <td>470.0</td>\n",
       "    </tr>\n",
       "    <tr>\n",
       "      <th>3</th>\n",
       "      <td>180.0</td>\n",
       "      <td>44</td>\n",
       "      <td>220.000000</td>\n",
       "      <td>4</td>\n",
       "      <td>Domestic Beer (0.5 liter draught), Restaurants</td>\n",
       "      <td>150.0</td>\n",
       "    </tr>\n",
       "    <tr>\n",
       "      <th>4</th>\n",
       "      <td>220.0</td>\n",
       "      <td>41</td>\n",
       "      <td>270.000000</td>\n",
       "      <td>5</td>\n",
       "      <td>Imported Beer (0.33 liter bottle), Restaurants</td>\n",
       "      <td>180.0</td>\n",
       "    </tr>\n",
       "  </tbody>\n",
       "</table>\n",
       "</div>"
      ],
      "text/plain": [
       "   average_price  data_points  highest_price  item_id  \\\n",
       "0          600.0           42     826.993048        1   \n",
       "1         3000.0           39    3500.000000        2   \n",
       "2          500.0           39     600.000000        3   \n",
       "3          180.0           44     220.000000        4   \n",
       "4          220.0           41     270.000000        5   \n",
       "\n",
       "                                           item_name  lowest_price  \n",
       "0          Meal, Inexpensive Restaurant, Restaurants         500.0  \n",
       "1  Meal for 2 People, Mid-range Restaurant, Three...        2000.0  \n",
       "2  McMeal at McDonalds (or Equivalent Combo Meal)...         470.0  \n",
       "3     Domestic Beer (0.5 liter draught), Restaurants         150.0  \n",
       "4     Imported Beer (0.33 liter bottle), Restaurants         180.0  "
      ]
     },
     "execution_count": 17,
     "metadata": {},
     "output_type": "execute_result"
    }
   ],
   "source": [
    "df= json_normalize(json.loads(request.text)['prices'])\n",
    "df.head()"
   ]
  },
  {
   "cell_type": "code",
   "execution_count": 9,
   "metadata": {},
   "outputs": [
    {
     "data": {
      "text/html": [
       "<div>\n",
       "<style scoped>\n",
       "    .dataframe tbody tr th:only-of-type {\n",
       "        vertical-align: middle;\n",
       "    }\n",
       "\n",
       "    .dataframe tbody tr th {\n",
       "        vertical-align: top;\n",
       "    }\n",
       "\n",
       "    .dataframe thead th {\n",
       "        text-align: right;\n",
       "    }\n",
       "</style>\n",
       "<table border=\"1\" class=\"dataframe\">\n",
       "  <thead>\n",
       "    <tr style=\"text-align: right;\">\n",
       "      <th></th>\n",
       "      <th>city_id</th>\n",
       "      <th>contributors</th>\n",
       "      <th>currency</th>\n",
       "      <th>monthLastUpdate</th>\n",
       "      <th>name</th>\n",
       "      <th>prices</th>\n",
       "      <th>yearLastUpdate</th>\n",
       "    </tr>\n",
       "  </thead>\n",
       "  <tbody>\n",
       "    <tr>\n",
       "      <th>0</th>\n",
       "      <td>6189</td>\n",
       "      <td>338</td>\n",
       "      <td>RSD</td>\n",
       "      <td>5</td>\n",
       "      <td>Belgrade, Serbia</td>\n",
       "      <td>[{'item_name': 'Meal, Inexpensive Restaurant, ...</td>\n",
       "      <td>2018</td>\n",
       "    </tr>\n",
       "  </tbody>\n",
       "</table>\n",
       "</div>"
      ],
      "text/plain": [
       "   city_id  contributors currency  monthLastUpdate              name  \\\n",
       "0     6189           338      RSD                5  Belgrade, Serbia   \n",
       "\n",
       "                                              prices  yearLastUpdate  \n",
       "0  [{'item_name': 'Meal, Inexpensive Restaurant, ...            2018  "
      ]
     },
     "execution_count": 9,
     "metadata": {},
     "output_type": "execute_result"
    }
   ],
   "source": [
    "df= json_normalize(json.loads(request.text))\n",
    "df"
   ]
  },
  {
   "cell_type": "code",
   "execution_count": null,
   "metadata": {},
   "outputs": [],
   "source": []
  }
 ],
 "metadata": {
  "kernelspec": {
   "display_name": "Python 3",
   "language": "python",
   "name": "python3"
  },
  "language_info": {
   "codemirror_mode": {
    "name": "ipython",
    "version": 3
   },
   "file_extension": ".py",
   "mimetype": "text/x-python",
   "name": "python",
   "nbconvert_exporter": "python",
   "pygments_lexer": "ipython3",
   "version": "3.5.0"
  }
 },
 "nbformat": 4,
 "nbformat_minor": 2
}
