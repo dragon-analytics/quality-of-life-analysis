{
 "cells": [
  {
   "cell_type": "markdown",
   "metadata": {},
   "source": [
    "## Numbeo Extract - city_prices"
   ]
  },
  {
   "cell_type": "markdown",
   "metadata": {},
   "source": [
    "To extract from the API of NUmbeo follow the next steps:\n",
    "- Access the url prefix with a request method e.g. `https://www.numbeo.com:8008/api/<DOCUMENT>?api_key=<YOUR_KEY>`\n",
    "- Every document (table) in Numbeo has different parameters to query, for more info go to [API doc](https://www.numbeo.com/api/doc.jsp)"
   ]
  },
  {
   "cell_type": "code",
   "execution_count": 1,
   "metadata": {},
   "outputs": [],
   "source": [
    "import pandas as pd\n",
    "import requests\n",
    "import json\n",
    "from pandas.io.json import json_normalize"
   ]
  },
  {
   "cell_type": "code",
   "execution_count": 11,
   "metadata": {},
   "outputs": [],
   "source": [
    "request= requests.get(\"http://www.numbeo.com:8008/api/city_prices?api_key=\")"
   ]
  },
  {
   "cell_type": "code",
   "execution_count": 12,
   "metadata": {},
   "outputs": [
    {
     "data": {
      "text/plain": [
       "'{\"error\":\"Couldn\\'t resolve city in your request.\"}\\n'"
      ]
     },
     "execution_count": 12,
     "metadata": {},
     "output_type": "execute_result"
    }
   ],
   "source": [
    "json_parse = json.loads(request.text)\n",
    "request.text"
   ]
  },
  {
   "cell_type": "code",
   "execution_count": 13,
   "metadata": {},
   "outputs": [],
   "source": [
    "request= requests.get(\"http://www.numbeo.com:8008/api/city_prices?api_key=&query=Belgrade\")"
   ]
  },
  {
   "cell_type": "code",
   "execution_count": 1,
   "metadata": {},
   "outputs": [],
   "source": [
    "#request.text"
   ]
  },
  {
   "cell_type": "code",
   "execution_count": 17,
   "metadata": {},
   "outputs": [
    {
     "data": {
      "text/html": [
       "<div>\n",
       "<style scoped>\n",
       "    .dataframe tbody tr th:only-of-type {\n",
       "        vertical-align: middle;\n",
       "    }\n",
       "\n",
       "    .dataframe tbody tr th {\n",
       "        vertical-align: top;\n",
       "    }\n",
       "\n",
       "    .dataframe thead th {\n",
       "        text-align: right;\n",
       "    }\n",
       "</style>\n",
       "<table border=\"1\" class=\"dataframe\">\n",
       "  <thead>\n",
       "    <tr style=\"text-align: right;\">\n",
       "      <th></th>\n",
       "      <th>average_price</th>\n",
       "      <th>data_points</th>\n",
       "      <th>highest_price</th>\n",
       "      <th>item_id</th>\n",
       "      <th>item_name</th>\n",
       "      <th>lowest_price</th>\n",
       "    </tr>\n",
       "  </thead>\n",
       "  <tbody>\n",
       "    <tr>\n",
       "      <th>0</th>\n",
       "      <td>600.0</td>\n",
       "      <td>42</td>\n",
       "      <td>826.993048</td>\n",
       "      <td>1</td>\n",
       "      <td>Meal, Inexpensive Restaurant, Restaurants</td>\n",
       "      <td>500.0</td>\n",
       "    </tr>\n",
       "    <tr>\n",
       "      <th>1</th>\n",
       "      <td>3000.0</td>\n",
       "      <td>39</td>\n",
       "      <td>3500.000000</td>\n",
       "      <td>2</td>\n",
       "      <td>Meal for 2 People, Mid-range Restaurant, Three...</td>\n",
       "      <td>2000.0</td>\n",
       "    </tr>\n",
       "    <tr>\n",
       "      <th>2</th>\n",
       "      <td>500.0</td>\n",
       "      <td>39</td>\n",
       "      <td>600.000000</td>\n",
       "      <td>3</td>\n",
       "      <td>McMeal at McDonalds (or Equivalent Combo Meal)...</td>\n",
       "      <td>470.0</td>\n",
       "    </tr>\n",
       "    <tr>\n",
       "      <th>3</th>\n",
       "      <td>180.0</td>\n",
       "      <td>44</td>\n",
       "      <td>220.000000</td>\n",
       "      <td>4</td>\n",
       "      <td>Domestic Beer (0.5 liter draught), Restaurants</td>\n",
       "      <td>150.0</td>\n",
       "    </tr>\n",
       "    <tr>\n",
       "      <th>4</th>\n",
       "      <td>220.0</td>\n",
       "      <td>41</td>\n",
       "      <td>270.000000</td>\n",
       "      <td>5</td>\n",
       "      <td>Imported Beer (0.33 liter bottle), Restaurants</td>\n",
       "      <td>180.0</td>\n",
       "    </tr>\n",
       "  </tbody>\n",
       "</table>\n",
       "</div>"
      ],
      "text/plain": [
       "   average_price  data_points  highest_price  item_id  \\\n",
       "0          600.0           42     826.993048        1   \n",
       "1         3000.0           39    3500.000000        2   \n",
       "2          500.0           39     600.000000        3   \n",
       "3          180.0           44     220.000000        4   \n",
       "4          220.0           41     270.000000        5   \n",
       "\n",
       "                                           item_name  lowest_price  \n",
       "0          Meal, Inexpensive Restaurant, Restaurants         500.0  \n",
       "1  Meal for 2 People, Mid-range Restaurant, Three...        2000.0  \n",
       "2  McMeal at McDonalds (or Equivalent Combo Meal)...         470.0  \n",
       "3     Domestic Beer (0.5 liter draught), Restaurants         150.0  \n",
       "4     Imported Beer (0.33 liter bottle), Restaurants         180.0  "
      ]
     },
     "execution_count": 17,
     "metadata": {},
     "output_type": "execute_result"
    }
   ],
   "source": [
    "df= json_normalize(json.loads(request.text)['prices'])\n",
    "df.head()"
   ]
  },
  {
   "cell_type": "code",
   "execution_count": 9,
   "metadata": {},
   "outputs": [
    {
     "data": {
      "text/html": [
       "<div>\n",
       "<style scoped>\n",
       "    .dataframe tbody tr th:only-of-type {\n",
       "        vertical-align: middle;\n",
       "    }\n",
       "\n",
       "    .dataframe tbody tr th {\n",
       "        vertical-align: top;\n",
       "    }\n",
       "\n",
       "    .dataframe thead th {\n",
       "        text-align: right;\n",
       "    }\n",
       "</style>\n",
       "<table border=\"1\" class=\"dataframe\">\n",
       "  <thead>\n",
       "    <tr style=\"text-align: right;\">\n",
       "      <th></th>\n",
       "      <th>city_id</th>\n",
       "      <th>contributors</th>\n",
       "      <th>currency</th>\n",
       "      <th>monthLastUpdate</th>\n",
       "      <th>name</th>\n",
       "      <th>prices</th>\n",
       "      <th>yearLastUpdate</th>\n",
       "    </tr>\n",
       "  </thead>\n",
       "  <tbody>\n",
       "    <tr>\n",
       "      <th>0</th>\n",
       "      <td>6189</td>\n",
       "      <td>338</td>\n",
       "      <td>RSD</td>\n",
       "      <td>5</td>\n",
       "      <td>Belgrade, Serbia</td>\n",
       "      <td>[{'item_name': 'Meal, Inexpensive Restaurant, ...</td>\n",
       "      <td>2018</td>\n",
       "    </tr>\n",
       "  </tbody>\n",
       "</table>\n",
       "</div>"
      ],
      "text/plain": [
       "   city_id  contributors currency  monthLastUpdate              name  \\\n",
       "0     6189           338      RSD                5  Belgrade, Serbia   \n",
       "\n",
       "                                              prices  yearLastUpdate  \n",
       "0  [{'item_name': 'Meal, Inexpensive Restaurant, ...            2018  "
      ]
     },
     "execution_count": 9,
     "metadata": {},
     "output_type": "execute_result"
    }
   ],
   "source": [
    "df= json_normalize(json.loads(request.text))\n",
    "df"
   ]
  },
  {
   "cell_type": "code",
   "execution_count": null,
   "metadata": {},
   "outputs": [],
   "source": []
  }
 ],
 "metadata": {
  "kernelspec": {
   "display_name": "Python 3",
   "language": "python",
   "name": "python3"
  },
  "language_info": {
   "codemirror_mode": {
    "name": "ipython",
    "version": 3
   },
   "file_extension": ".py",
   "mimetype": "text/x-python",
   "name": "python",
   "nbconvert_exporter": "python",
   "pygments_lexer": "ipython3",
   "version": "3.5.0"
  }
 },
 "nbformat": 4,
 "nbformat_minor": 2
}
