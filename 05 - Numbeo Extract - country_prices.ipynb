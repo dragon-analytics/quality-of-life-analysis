{
 "cells": [
  {
   "cell_type": "markdown",
   "metadata": {},
   "source": [
    "## Numbeo Extract - country_prices"
   ]
  },
  {
   "cell_type": "markdown",
   "metadata": {},
   "source": [
    "To extract from the API of NUmbeo follow the next steps:\n",
    "- Access the url prefix with a request method e.g. `https://www.numbeo.com:8008/api/<DOCUMENT>?api_key=<YOUR_KEY>`\n",
    "- Every document (table) in Numbeo has different parameters to query, for more info go to [API doc](https://www.numbeo.com/api/doc.jsp)"
   ]
  },
  {
   "cell_type": "code",
   "execution_count": 1,
   "metadata": {},
   "outputs": [],
   "source": [
    "import pandas as pd\n",
    "import requests\n",
    "import json\n",
    "from pandas.io.json import json_normalize"
   ]
  },
  {
   "cell_type": "code",
   "execution_count": 18,
   "metadata": {},
   "outputs": [],
   "source": [
    "request= requests.get(\"http://www.numbeo.com:8008/api/country_prices?api_key=\")"
   ]
  },
  {
   "cell_type": "code",
   "execution_count": 19,
   "metadata": {},
   "outputs": [
    {
     "data": {
      "text/plain": [
       "'{\"supported_countries\":[\"Afghanistan\",\"Aland Islands\",\"Albania\",\"Algeria\",\"Andorra\",\"Angola\",\"Antigua And Barbuda\",\"Argentina\",\"Armenia\",\"Aruba\",\"Australia\",\"Austria\",\"Azerbaijan\",\"Bahamas\",\"Bahrain\",\"Bangladesh\",\"Barbados\",\"Belarus\",\"Belgium\",\"Belize\",\"Bermuda\",\"Bhutan\",\"Bolivia\",\"Bonaire\",\"Bosnia And Herzegovina\",\"Botswana\",\"Brazil\",\"Brunei\",\"Bulgaria\",\"Burkina Faso\",\"Burundi\",\"Cambodia\",\"Cameroon\",\"Canada\",\"Cayman Islands\",\"Chile\",\"China\",\"Colombia\",\"Congo\",\"Costa Rica\",\"Croatia\",\"Cuba\",\"Curacao\",\"Cyprus\",\"Czech Republic\",\"Denmark\",\"Djibouti\",\"Dominica\",\"Dominican Republic\",\"Ecuador\",\"Egypt\",\"El Salvador\",\"Equatorial Guinea\",\"Estonia\",\"Ethiopia\",\"Faroe Islands\",\"Fiji\",\"Finland\",\"France\",\"French Polynesia\",\"Gabon\",\"Gambia\",\"Georgia\",\"Germany\",\"Ghana\",\"Gibraltar\",\"Greece\",\"Greenland\",\"Grenada\",\"Guam\",\"Guatemala\",\"Guernsey\",\"Guyana\",\"Haiti\",\"Honduras\",\"Hong Kong\",\"Hungary\",\"Iceland\",\"India\",\"Indonesia\",\"Iran\",\"Iraq\",\"Ireland\",\"Isle Of Man\",\"Israel\",\"Italy\",\"Ivory Coast\",\"Jamaica\",\"Japan\",\"Jersey\",\"Jordan\",\"Kazakhstan\",\"Kenya\",\"Kosovo (Disputed Territory)\",\"Kuwait\",\"Kyrgyzstan\",\"Laos\",\"Latvia\",\"Lebanon\",\"Lesotho\",\"Liberia\",\"Libya\",\"Lithuania\",\"Luxembourg\",\"Macao\",\"Macedonia\",\"Madagascar\",\"Malawi\",\"Malaysia\",\"Maldives\",\"Mali\",\"Malta\",\"Mauritania\",\"Mauritius\",\"Mexico\",\"Micronesia\",\"Moldova\",\"Monaco\",\"Mongolia\",\"Montenegro\",\"Morocco\",\"Mozambique\",\"Myanmar\",\"Namibia\",\"Nepal\",\"Netherlands\",\"New Caledonia\",\"New Zealand\",\"Nicaragua\",\"Nigeria\",\"Northern Mariana Islands\",\"Norway\",\"Oman\",\"Pakistan\",\"Palestinian Territory\",\"Panama\",\"Papua New Guinea\",\"Paraguay\",\"Peru\",\"Philippines\",\"Poland\",\"Portugal\",\"Puerto Rico\",\"Qatar\",\"Reunion\",\"Romania\",\"Russia\",\"Rwanda\",\"Saint Kitts And Nevis\",\"Saint Lucia\",\"Samoa\",\"Saudi Arabia\",\"Senegal\",\"Serbia\",\"Seychelles\",\"Singapore\",\"Sint Maarten\",\"Slovakia\",\"Slovenia\",\"Solomon Islands\",\"Somalia\",\"South Africa\",\"South Korea\",\"Spain\",\"Sri Lanka\",\"Sudan\",\"Suriname\",\"Swaziland\",\"Sweden\",\"Switzerland\",\"Syria\",\"Taiwan\",\"Tajikistan\",\"Tanzania\",\"Thailand\",\"Timor-Leste\",\"Togo\",\"Tonga\",\"Trinidad And Tobago\",\"Tunisia\",\"Turkey\",\"Turkmenistan\",\"Turks And Caicos Islands\",\"Uganda\",\"Ukraine\",\"United Arab Emirates\",\"United Kingdom\",\"United States\",\"Uruguay\",\"Us Virgin Islands\",\"Uzbekistan\",\"Vanuatu\",\"Venezuela\",\"Vietnam\",\"Yemen\",\"Zambia\",\"Zimbabwe\"]}\\n'"
      ]
     },
     "execution_count": 19,
     "metadata": {},
     "output_type": "execute_result"
    }
   ],
   "source": [
    "json_parse = json.loads(request.text)\n",
    "request.text"
   ]
  },
  {
   "cell_type": "code",
   "execution_count": 24,
   "metadata": {},
   "outputs": [],
   "source": [
    "request= requests.get(\"http://www.numbeo.com:8008/api/country_prices?api_key=&country=Serbia\")"
   ]
  },
  {
   "cell_type": "code",
   "execution_count": 25,
   "metadata": {},
   "outputs": [
    {
     "data": {
      "text/plain": [
       "'{\"name\":\"Serbia\",\"currency\":\"RSD\",\"monthLastUpdate\":5,\"contributors\":644,\"yearLastUpdate\":2018,\"prices\":[{\"data_points\":114,\"item_id\":1,\"lowest_price\":400,\"average_price\":500,\"highest_price\":800,\"item_name\":\"Meal, Inexpensive Restaurant, Restaurants\"},{\"data_points\":110,\"item_id\":2,\"lowest_price\":1500,\"average_price\":2000,\"highest_price\":3000,\"item_name\":\"Meal for 2 People, Mid-range Restaurant, Three-course, Restaurants\"},{\"data_points\":96,\"item_id\":3,\"lowest_price\":400,\"average_price\":500,\"highest_price\":590.7093199318576,\"item_name\":\"McMeal at McDonalds (or Equivalent Combo Meal), Restaurants\"},{\"data_points\":117,\"item_id\":4,\"lowest_price\":120,\"average_price\":150,\"highest_price\":180,\"item_name\":\"Domestic Beer (0.5 liter draught), Restaurants\"},{\"data_points\":114,\"item_id\":5,\"lowest_price\":130,\"average_price\":180,\"highest_price\":236.28372797274307,\"item_name\":\"Imported Beer (0.33 liter bottle), Restaurants\"},{\"data_points\":110,\"item_id\":6,\"lowest_price\":70,\"average_price\":122.22231307566983,\"highest_price\":160,\"item_name\":\"Coke/Pepsi (0.33 liter bottle), Restaurants\"},{\"data_points\":122,\"item_id\":7,\"lowest_price\":40,\"average_price\":76.04975005164195,\"highest_price\":120,\"item_name\":\"Water (0.33 liter bottle) , Restaurants\"},{\"data_points\":95,\"item_id\":8,\"lowest_price\":78,\"average_price\":90.50785057674169,\"highest_price\":110,\"item_name\":\"Milk (regular), (1 liter), Markets\"},{\"data_points\":94,\"item_id\":9,\"lowest_price\":35,\"average_price\":43.65038233213427,\"highest_price\":50,\"item_name\":\"Loaf of Fresh White Bread (500g), Markets\"},{\"data_points\":90,\"item_id\":11,\"lowest_price\":120,\"average_price\":143.53000775273256,\"highest_price\":180,\"item_name\":\"Eggs (regular) (12), Markets\"},{\"data_points\":75,\"item_id\":12,\"lowest_price\":300,\"average_price\":487.68363190406586,\"highest_price\":700,\"item_name\":\"Local Cheese (1kg), Markets\"},{\"data_points\":90,\"item_id\":13,\"lowest_price\":40,\"average_price\":47.61396383993942,\"highest_price\":60,\"item_name\":\"Water (1.5 liter bottle), Markets\"},{\"data_points\":73,\"item_id\":14,\"lowest_price\":300,\"average_price\":400,\"highest_price\":500,\"item_name\":\"Bottle of Wine (Mid-Range), Markets\"},{\"data_points\":84,\"item_id\":15,\"lowest_price\":50,\"average_price\":62.036035504502316,\"highest_price\":80,\"item_name\":\"Domestic Beer (0.5 liter bottle), Markets\"},{\"data_points\":75,\"item_id\":16,\"lowest_price\":75,\"average_price\":93.3977363729699,\"highest_price\":120,\"item_name\":\"Imported Beer (0.33 liter bottle), Markets\"},{\"data_points\":76,\"item_id\":17,\"lowest_price\":260,\"average_price\":290,\"highest_price\":310,\"item_name\":\"Cigarettes 20 Pack (Marlboro), Markets\"},{\"data_points\":200,\"item_id\":18,\"lowest_price\":60,\"average_price\":89,\"highest_price\":90,\"item_name\":\"One-way Ticket (Local Transport), Transportation\"},{\"data_points\":68,\"item_id\":19,\"lowest_price\":400,\"average_price\":504.3317390581822,\"highest_price\":650,\"item_name\":\"Chicken Breasts (Boneless, Skinless), (1kg), Markets\"},{\"data_points\":149,\"item_id\":20,\"lowest_price\":2200,\"average_price\":3000,\"highest_price\":3300,\"item_name\":\"Monthly Pass (Regular Price), Transportation\"},{\"data_points\":163,\"item_id\":24,\"lowest_price\":140,\"average_price\":147.69877300613499,\"highest_price\":155,\"item_name\":\"Gasoline (1 liter), Transportation\"},{\"data_points\":46,\"item_id\":25,\"lowest_price\":1680000,\"average_price\":2000000,\"highest_price\":2400000,\"item_name\":\"Volkswagen Golf 1.4 90 KW Trendline (Or Equivalent New Car), Transportation\"},{\"data_points\":143,\"item_id\":26,\"lowest_price\":14000,\"average_price\":27681.75859419116,\"highest_price\":45000,\"item_name\":\"Apartment (1 bedroom) in City Centre, Rent Per Month\"},{\"data_points\":134,\"item_id\":27,\"lowest_price\":11000,\"average_price\":17832.522229390524,\"highest_price\":25000,\"item_name\":\"Apartment (1 bedroom) Outside of Centre, Rent Per Month\"},{\"data_points\":116,\"item_id\":28,\"lowest_price\":24000,\"average_price\":50122.311726058855,\"highest_price\":94513.49118909723,\"item_name\":\"Apartment (3 bedrooms) in City Centre, Rent Per Month\"},{\"data_points\":114,\"item_id\":29,\"lowest_price\":17000,\"average_price\":31730.22733150424,\"highest_price\":50000,\"item_name\":\"Apartment (3 bedrooms) Outside of Centre, Rent Per Month\"},{\"data_points\":167,\"item_id\":30,\"lowest_price\":10000,\"average_price\":15109.645449529076,\"highest_price\":20000,\"item_name\":\"Basic (Electricity, Heating, Cooling, Water, Garbage) for 85m2 Apartment, Utilities (Monthly)\"},{\"data_points\":103,\"item_id\":32,\"lowest_price\":7.89,\"average_price\":11.944428751443075,\"highest_price\":20,\"item_name\":\"1 min. of Prepaid Mobile Tariff Local (No Discounts or Plans), Utilities (Monthly)\"},{\"data_points\":161,\"item_id\":33,\"lowest_price\":1400,\"average_price\":2086.267512791645,\"highest_price\":3000,\"item_name\":\"Internet (60 Mbps or More, Unlimited Data, Cable/ADSL), Utilities (Monthly)\"},{\"data_points\":158,\"item_id\":40,\"lowest_price\":1500,\"average_price\":2506.1896248010694,\"highest_price\":3000,\"item_name\":\"Fitness Club, Monthly Fee for 1 Adult, Sports And Leisure\"},{\"data_points\":57,\"item_id\":42,\"lowest_price\":400,\"average_price\":876.8478150841329,\"highest_price\":1500,\"item_name\":\"Tennis Court Rent (1 Hour on Weekend), Sports And Leisure\"},{\"data_points\":171,\"item_id\":44,\"lowest_price\":340,\"average_price\":450,\"highest_price\":550,\"item_name\":\"Cinema, International Release, 1 Seat, Sports And Leisure\"},{\"data_points\":125,\"item_id\":60,\"lowest_price\":3000,\"average_price\":6417.596276783646,\"highest_price\":11814.186398637154,\"item_name\":\"1 Pair of Jeans (Levis 501 Or Similar), Clothing And Shoes\"},{\"data_points\":125,\"item_id\":62,\"lowest_price\":2000,\"average_price\":3181.0884675107327,\"highest_price\":5000,\"item_name\":\"1 Summer Dress in a Chain Store (Zara, H&M, ...), Clothing And Shoes\"},{\"data_points\":143,\"item_id\":64,\"lowest_price\":6000,\"average_price\":7977.545542631134,\"highest_price\":10000,\"item_name\":\"1 Pair of Nike Running Shoes (Mid-Range), Clothing And Shoes\"},{\"data_points\":125,\"item_id\":66,\"lowest_price\":6000,\"average_price\":9059.645490196932,\"highest_price\":13000,\"item_name\":\"1 Pair of Men Leather Business Shoes, Clothing And Shoes\"},{\"data_points\":36,\"item_id\":206,\"lowest_price\":1660694.47,\"average_price\":1974474.6469255164,\"highest_price\":2332400,\"item_name\":\"Toyota Corolla 1.6l 97kW Comfort (Or Equivalent New Car), Transportation\"},{\"data_points\":50,\"item_id\":224,\"lowest_price\":15000,\"average_price\":25216.600503850084,\"highest_price\":35000,\"item_name\":\"Preschool (or Kindergarten), Full Day, Private, Monthly for 1 Child, Childcare\"},{\"data_points\":122,\"item_id\":100,\"lowest_price\":94513.49118909723,\"average_price\":192535.76362067412,\"highest_price\":300000,\"item_name\":\"Price per Square Meter to Buy Apartment in City Centre, Buy Apartment Price\"},{\"data_points\":21,\"item_id\":228,\"lowest_price\":480000,\"average_price\":880961.919183769,\"highest_price\":1063276.7758773437,\"item_name\":\"International Primary School, Yearly for 1 Child, Childcare\"},{\"data_points\":128,\"item_id\":101,\"lowest_price\":66800,\"average_price\":114743.02495288543,\"highest_price\":155000,\"item_name\":\"Price per Square Meter to Buy Apartment Outside of Centre, Buy Apartment Price\"},{\"data_points\":183,\"item_id\":105,\"lowest_price\":30000,\"average_price\":41300.71107225746,\"highest_price\":55000,\"item_name\":\"Average Monthly Net Salary (After Tax), Salaries And Financing\"},{\"data_points\":57,\"item_id\":106,\"lowest_price\":3,\"average_price\":4.1464912280701745,\"highest_price\":6,\"item_name\":\"Mortgage Interest Rate in Percentages (%), Yearly, for 20 Years Fixed-Rate, Salaries And Financing\"},{\"data_points\":150,\"item_id\":107,\"lowest_price\":80,\"average_price\":150,\"highest_price\":170,\"item_name\":\"Taxi Start (Normal Tariff), Transportation\"},{\"data_points\":104,\"item_id\":108,\"lowest_price\":50,\"average_price\":65,\"highest_price\":85,\"item_name\":\"Taxi 1km (Normal Tariff), Transportation\"},{\"data_points\":69,\"item_id\":109,\"lowest_price\":350,\"average_price\":500,\"highest_price\":750,\"item_name\":\"Taxi 1hour Waiting (Normal Tariff), Transportation\"},{\"data_points\":68,\"item_id\":110,\"lowest_price\":59.070931993185766,\"average_price\":82.34278376440525,\"highest_price\":110,\"item_name\":\"Apples (1kg), Markets\"},{\"data_points\":63,\"item_id\":111,\"lowest_price\":90,\"average_price\":115.54284972640005,\"highest_price\":150,\"item_name\":\"Oranges (1kg), Markets\"},{\"data_points\":63,\"item_id\":112,\"lowest_price\":40,\"average_price\":48.73507918616671,\"highest_price\":70,\"item_name\":\"Potato (1kg), Markets\"},{\"data_points\":45,\"item_id\":113,\"lowest_price\":27,\"average_price\":42.77146242657581,\"highest_price\":60,\"item_name\":\"Lettuce (1 head), Markets\"},{\"data_points\":120,\"item_id\":114,\"lowest_price\":100,\"average_price\":126.53578119261785,\"highest_price\":170,\"item_name\":\"Cappuccino (regular), Restaurants\"},{\"data_points\":57,\"item_id\":115,\"lowest_price\":80,\"average_price\":121.91984506689619,\"highest_price\":200,\"item_name\":\"Rice (white), (1kg), Markets\"},{\"data_points\":61,\"item_id\":116,\"lowest_price\":60,\"average_price\":99.5672431579094,\"highest_price\":154.3235835294143,\"item_name\":\"Tomato (1kg), Markets\"},{\"data_points\":78,\"item_id\":118,\"lowest_price\":110,\"average_price\":128.49263579434762,\"highest_price\":160,\"item_name\":\"Banana (1kg), Markets\"},{\"data_points\":57,\"item_id\":119,\"lowest_price\":35,\"average_price\":47.51206444179444,\"highest_price\":70,\"item_name\":\"Onion (1kg), Markets\"},{\"data_points\":57,\"item_id\":121,\"lowest_price\":500,\"average_price\":664.0960483689032,\"highest_price\":800,\"item_name\":\"Beef Round (1kg) (or Equivalent Back Leg Red Meat), Markets\"}]}\\n'"
      ]
     },
     "execution_count": 25,
     "metadata": {},
     "output_type": "execute_result"
    }
   ],
   "source": [
    "json_parse = json.loads(request.text)\n",
    "request.text"
   ]
  },
  {
   "cell_type": "code",
   "execution_count": 26,
   "metadata": {},
   "outputs": [
    {
     "data": {
      "text/html": [
       "<div>\n",
       "<style scoped>\n",
       "    .dataframe tbody tr th:only-of-type {\n",
       "        vertical-align: middle;\n",
       "    }\n",
       "\n",
       "    .dataframe tbody tr th {\n",
       "        vertical-align: top;\n",
       "    }\n",
       "\n",
       "    .dataframe thead th {\n",
       "        text-align: right;\n",
       "    }\n",
       "</style>\n",
       "<table border=\"1\" class=\"dataframe\">\n",
       "  <thead>\n",
       "    <tr style=\"text-align: right;\">\n",
       "      <th></th>\n",
       "      <th>average_price</th>\n",
       "      <th>data_points</th>\n",
       "      <th>highest_price</th>\n",
       "      <th>item_id</th>\n",
       "      <th>item_name</th>\n",
       "      <th>lowest_price</th>\n",
       "    </tr>\n",
       "  </thead>\n",
       "  <tbody>\n",
       "    <tr>\n",
       "      <th>0</th>\n",
       "      <td>500.0</td>\n",
       "      <td>114</td>\n",
       "      <td>800.000000</td>\n",
       "      <td>1</td>\n",
       "      <td>Meal, Inexpensive Restaurant, Restaurants</td>\n",
       "      <td>400.0</td>\n",
       "    </tr>\n",
       "    <tr>\n",
       "      <th>1</th>\n",
       "      <td>2000.0</td>\n",
       "      <td>110</td>\n",
       "      <td>3000.000000</td>\n",
       "      <td>2</td>\n",
       "      <td>Meal for 2 People, Mid-range Restaurant, Three...</td>\n",
       "      <td>1500.0</td>\n",
       "    </tr>\n",
       "    <tr>\n",
       "      <th>2</th>\n",
       "      <td>500.0</td>\n",
       "      <td>96</td>\n",
       "      <td>590.709320</td>\n",
       "      <td>3</td>\n",
       "      <td>McMeal at McDonalds (or Equivalent Combo Meal)...</td>\n",
       "      <td>400.0</td>\n",
       "    </tr>\n",
       "    <tr>\n",
       "      <th>3</th>\n",
       "      <td>150.0</td>\n",
       "      <td>117</td>\n",
       "      <td>180.000000</td>\n",
       "      <td>4</td>\n",
       "      <td>Domestic Beer (0.5 liter draught), Restaurants</td>\n",
       "      <td>120.0</td>\n",
       "    </tr>\n",
       "    <tr>\n",
       "      <th>4</th>\n",
       "      <td>180.0</td>\n",
       "      <td>114</td>\n",
       "      <td>236.283728</td>\n",
       "      <td>5</td>\n",
       "      <td>Imported Beer (0.33 liter bottle), Restaurants</td>\n",
       "      <td>130.0</td>\n",
       "    </tr>\n",
       "  </tbody>\n",
       "</table>\n",
       "</div>"
      ],
      "text/plain": [
       "   average_price  data_points  highest_price  item_id  \\\n",
       "0          500.0          114     800.000000        1   \n",
       "1         2000.0          110    3000.000000        2   \n",
       "2          500.0           96     590.709320        3   \n",
       "3          150.0          117     180.000000        4   \n",
       "4          180.0          114     236.283728        5   \n",
       "\n",
       "                                           item_name  lowest_price  \n",
       "0          Meal, Inexpensive Restaurant, Restaurants         400.0  \n",
       "1  Meal for 2 People, Mid-range Restaurant, Three...        1500.0  \n",
       "2  McMeal at McDonalds (or Equivalent Combo Meal)...         400.0  \n",
       "3     Domestic Beer (0.5 liter draught), Restaurants         120.0  \n",
       "4     Imported Beer (0.33 liter bottle), Restaurants         130.0  "
      ]
     },
     "execution_count": 26,
     "metadata": {},
     "output_type": "execute_result"
    }
   ],
   "source": [
    "df= json_normalize(json.loads(request.text)['prices'])\n",
    "df.head()"
   ]
  },
  {
   "cell_type": "code",
   "execution_count": 27,
   "metadata": {},
   "outputs": [
    {
     "data": {
      "text/html": [
       "<div>\n",
       "<style scoped>\n",
       "    .dataframe tbody tr th:only-of-type {\n",
       "        vertical-align: middle;\n",
       "    }\n",
       "\n",
       "    .dataframe tbody tr th {\n",
       "        vertical-align: top;\n",
       "    }\n",
       "\n",
       "    .dataframe thead th {\n",
       "        text-align: right;\n",
       "    }\n",
       "</style>\n",
       "<table border=\"1\" class=\"dataframe\">\n",
       "  <thead>\n",
       "    <tr style=\"text-align: right;\">\n",
       "      <th></th>\n",
       "      <th>contributors</th>\n",
       "      <th>currency</th>\n",
       "      <th>monthLastUpdate</th>\n",
       "      <th>name</th>\n",
       "      <th>prices</th>\n",
       "      <th>yearLastUpdate</th>\n",
       "    </tr>\n",
       "  </thead>\n",
       "  <tbody>\n",
       "    <tr>\n",
       "      <th>0</th>\n",
       "      <td>644</td>\n",
       "      <td>RSD</td>\n",
       "      <td>5</td>\n",
       "      <td>Serbia</td>\n",
       "      <td>[{'lowest_price': 400, 'item_name': 'Meal, Ine...</td>\n",
       "      <td>2018</td>\n",
       "    </tr>\n",
       "  </tbody>\n",
       "</table>\n",
       "</div>"
      ],
      "text/plain": [
       "   contributors currency  monthLastUpdate    name  \\\n",
       "0           644      RSD                5  Serbia   \n",
       "\n",
       "                                              prices  yearLastUpdate  \n",
       "0  [{'lowest_price': 400, 'item_name': 'Meal, Ine...            2018  "
      ]
     },
     "execution_count": 27,
     "metadata": {},
     "output_type": "execute_result"
    }
   ],
   "source": [
    "df= json_normalize(json.loads(request.text))\n",
    "df"
   ]
  },
  {
   "cell_type": "code",
   "execution_count": null,
   "metadata": {},
   "outputs": [],
   "source": []
  }
 ],
 "metadata": {
  "kernelspec": {
   "display_name": "Python 3",
   "language": "python",
   "name": "python3"
  },
  "language_info": {
   "codemirror_mode": {
    "name": "ipython",
    "version": 3
   },
   "file_extension": ".py",
   "mimetype": "text/x-python",
   "name": "python",
   "nbconvert_exporter": "python",
   "pygments_lexer": "ipython3",
   "version": "3.5.0"
  }
 },
 "nbformat": 4,
 "nbformat_minor": 2
}
