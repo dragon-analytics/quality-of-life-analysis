{
 "cells": [
  {
   "cell_type": "markdown",
   "metadata": {},
   "source": [
    "## Numbeo Extract - country_prices"
   ]
  },
  {
   "cell_type": "markdown",
   "metadata": {},
   "source": [
    "To extract from the API of NUmbeo follow the next steps:\n",
    "- Access the url prefix with a request method e.g. `https://www.numbeo.com:8008/api/<DOCUMENT>?api_key=<YOUR_KEY>`\n",
    "- Every document (table) in Numbeo has different parameters to query, for more info go to [API doc](https://www.numbeo.com/api/doc.jsp)"
   ]
  },
  {
   "cell_type": "code",
   "execution_count": 1,
   "metadata": {},
   "outputs": [],
   "source": [
    "import pandas as pd\n",
    "import requests\n",
    "import json\n",
    "from pandas.io.json import json_normalize"
   ]
  },
  {
   "cell_type": "code",
   "execution_count": 18,
   "metadata": {},
   "outputs": [],
   "source": [
    "request= requests.get(\"http://www.numbeo.com:8008/api/country_prices?api_key=\")"
   ]
  },
  {
   "cell_type": "code",
   "execution_count": 1,
   "metadata": {},
   "outputs": [],
   "source": [
    "#request.text"
   ]
  },
  {
   "cell_type": "code",
   "execution_count": 24,
   "metadata": {},
   "outputs": [],
   "source": [
    "request= requests.get(\"http://www.numbeo.com:8008/api/country_prices?api_key=&country=Serbia\")"
   ]
  },
  {
   "cell_type": "code",
   "execution_count": 2,
   "metadata": {},
   "outputs": [],
   "source": [
    "#request.text"
   ]
  },
  {
   "cell_type": "code",
   "execution_count": 26,
   "metadata": {},
   "outputs": [
    {
     "data": {
      "text/html": [
       "<div>\n",
       "<style scoped>\n",
       "    .dataframe tbody tr th:only-of-type {\n",
       "        vertical-align: middle;\n",
       "    }\n",
       "\n",
       "    .dataframe tbody tr th {\n",
       "        vertical-align: top;\n",
       "    }\n",
       "\n",
       "    .dataframe thead th {\n",
       "        text-align: right;\n",
       "    }\n",
       "</style>\n",
       "<table border=\"1\" class=\"dataframe\">\n",
       "  <thead>\n",
       "    <tr style=\"text-align: right;\">\n",
       "      <th></th>\n",
       "      <th>average_price</th>\n",
       "      <th>data_points</th>\n",
       "      <th>highest_price</th>\n",
       "      <th>item_id</th>\n",
       "      <th>item_name</th>\n",
       "      <th>lowest_price</th>\n",
       "    </tr>\n",
       "  </thead>\n",
       "  <tbody>\n",
       "    <tr>\n",
       "      <th>0</th>\n",
       "      <td>500.0</td>\n",
       "      <td>114</td>\n",
       "      <td>800.000000</td>\n",
       "      <td>1</td>\n",
       "      <td>Meal, Inexpensive Restaurant, Restaurants</td>\n",
       "      <td>400.0</td>\n",
       "    </tr>\n",
       "    <tr>\n",
       "      <th>1</th>\n",
       "      <td>2000.0</td>\n",
       "      <td>110</td>\n",
       "      <td>3000.000000</td>\n",
       "      <td>2</td>\n",
       "      <td>Meal for 2 People, Mid-range Restaurant, Three...</td>\n",
       "      <td>1500.0</td>\n",
       "    </tr>\n",
       "    <tr>\n",
       "      <th>2</th>\n",
       "      <td>500.0</td>\n",
       "      <td>96</td>\n",
       "      <td>590.709320</td>\n",
       "      <td>3</td>\n",
       "      <td>McMeal at McDonalds (or Equivalent Combo Meal)...</td>\n",
       "      <td>400.0</td>\n",
       "    </tr>\n",
       "    <tr>\n",
       "      <th>3</th>\n",
       "      <td>150.0</td>\n",
       "      <td>117</td>\n",
       "      <td>180.000000</td>\n",
       "      <td>4</td>\n",
       "      <td>Domestic Beer (0.5 liter draught), Restaurants</td>\n",
       "      <td>120.0</td>\n",
       "    </tr>\n",
       "    <tr>\n",
       "      <th>4</th>\n",
       "      <td>180.0</td>\n",
       "      <td>114</td>\n",
       "      <td>236.283728</td>\n",
       "      <td>5</td>\n",
       "      <td>Imported Beer (0.33 liter bottle), Restaurants</td>\n",
       "      <td>130.0</td>\n",
       "    </tr>\n",
       "  </tbody>\n",
       "</table>\n",
       "</div>"
      ],
      "text/plain": [
       "   average_price  data_points  highest_price  item_id  \\\n",
       "0          500.0          114     800.000000        1   \n",
       "1         2000.0          110    3000.000000        2   \n",
       "2          500.0           96     590.709320        3   \n",
       "3          150.0          117     180.000000        4   \n",
       "4          180.0          114     236.283728        5   \n",
       "\n",
       "                                           item_name  lowest_price  \n",
       "0          Meal, Inexpensive Restaurant, Restaurants         400.0  \n",
       "1  Meal for 2 People, Mid-range Restaurant, Three...        1500.0  \n",
       "2  McMeal at McDonalds (or Equivalent Combo Meal)...         400.0  \n",
       "3     Domestic Beer (0.5 liter draught), Restaurants         120.0  \n",
       "4     Imported Beer (0.33 liter bottle), Restaurants         130.0  "
      ]
     },
     "execution_count": 26,
     "metadata": {},
     "output_type": "execute_result"
    }
   ],
   "source": [
    "df= json_normalize(json.loads(request.text)['prices'])\n",
    "df.head()"
   ]
  },
  {
   "cell_type": "code",
   "execution_count": 27,
   "metadata": {},
   "outputs": [
    {
     "data": {
      "text/html": [
       "<div>\n",
       "<style scoped>\n",
       "    .dataframe tbody tr th:only-of-type {\n",
       "        vertical-align: middle;\n",
       "    }\n",
       "\n",
       "    .dataframe tbody tr th {\n",
       "        vertical-align: top;\n",
       "    }\n",
       "\n",
       "    .dataframe thead th {\n",
       "        text-align: right;\n",
       "    }\n",
       "</style>\n",
       "<table border=\"1\" class=\"dataframe\">\n",
       "  <thead>\n",
       "    <tr style=\"text-align: right;\">\n",
       "      <th></th>\n",
       "      <th>contributors</th>\n",
       "      <th>currency</th>\n",
       "      <th>monthLastUpdate</th>\n",
       "      <th>name</th>\n",
       "      <th>prices</th>\n",
       "      <th>yearLastUpdate</th>\n",
       "    </tr>\n",
       "  </thead>\n",
       "  <tbody>\n",
       "    <tr>\n",
       "      <th>0</th>\n",
       "      <td>644</td>\n",
       "      <td>RSD</td>\n",
       "      <td>5</td>\n",
       "      <td>Serbia</td>\n",
       "      <td>[{'lowest_price': 400, 'item_name': 'Meal, Ine...</td>\n",
       "      <td>2018</td>\n",
       "    </tr>\n",
       "  </tbody>\n",
       "</table>\n",
       "</div>"
      ],
      "text/plain": [
       "   contributors currency  monthLastUpdate    name  \\\n",
       "0           644      RSD                5  Serbia   \n",
       "\n",
       "                                              prices  yearLastUpdate  \n",
       "0  [{'lowest_price': 400, 'item_name': 'Meal, Ine...            2018  "
      ]
     },
     "execution_count": 27,
     "metadata": {},
     "output_type": "execute_result"
    }
   ],
   "source": [
    "df= json_normalize(json.loads(request.text))\n",
    "df"
   ]
  },
  {
   "cell_type": "code",
   "execution_count": null,
   "metadata": {},
   "outputs": [],
   "source": []
  }
 ],
 "metadata": {
  "kernelspec": {
   "display_name": "Python 3",
   "language": "python",
   "name": "python3"
  },
  "language_info": {
   "codemirror_mode": {
    "name": "ipython",
    "version": 3
   },
   "file_extension": ".py",
   "mimetype": "text/x-python",
   "name": "python",
   "nbconvert_exporter": "python",
   "pygments_lexer": "ipython3",
   "version": "3.5.0"
  }
 },
 "nbformat": 4,
 "nbformat_minor": 2
}
