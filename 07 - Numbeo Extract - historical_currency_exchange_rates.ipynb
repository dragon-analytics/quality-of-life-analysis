{
 "cells": [
  {
   "cell_type": "markdown",
   "metadata": {},
   "source": [
    "## Numbeo Extract - historical_currency_exchange_rates"
   ]
  },
  {
   "cell_type": "markdown",
   "metadata": {},
   "source": [
    "To extract from the API of NUmbeo follow the next steps:\n",
    "- Access the url prefix with a request method e.g. `https://www.numbeo.com:8008/api/<DOCUMENT>?api_key=<YOUR_KEY>`\n",
    "- Every document (table) in Numbeo has different parameters to query, for more info go to [API doc](https://www.numbeo.com/api/doc.jsp)"
   ]
  },
  {
   "cell_type": "code",
   "execution_count": 2,
   "metadata": {},
   "outputs": [],
   "source": [
    "import pandas as pd\n",
    "import requests\n",
    "import json\n",
    "from pandas.io.json import json_normalize"
   ]
  },
  {
   "cell_type": "code",
   "execution_count": 3,
   "metadata": {},
   "outputs": [],
   "source": [
    "request= requests.get(\"http://www.numbeo.com:8008/api/historical_currency_exchange_rates?api_key=&month=3&year=2014\")"
   ]
  },
  {
   "cell_type": "code",
   "execution_count": 4,
   "metadata": {},
   "outputs": [
    {
     "data": {
      "text/plain": [
       "'{\"month\":3,\"year\":2014,\"exchange_rates\":[{\"one_usd_to_currency\":0.27225701061802343,\"currency\":\"AED\",\"one_eur_to_currency\":0.19760413830656137},{\"one_usd_to_currency\":0.017724242687420573,\"currency\":\"AFN\",\"one_eur_to_currency\":0.012864255342529851},{\"one_usd_to_currency\":0.00983285135973585,\"currency\":\"ALL\",\"one_eur_to_currency\":0.00713668351689628},{\"one_usd_to_currency\":0.002420429001677115,\"currency\":\"AMD\",\"one_eur_to_currency\":0.0017567473694172504},{\"one_usd_to_currency\":0.5586592178770949,\"currency\":\"ANG\",\"one_eur_to_currency\":0.40547486033519553},{\"one_usd_to_currency\":0.01024574417401372,\"currency\":\"AOA\",\"one_eur_to_currency\":0.007436361121499157},{\"one_usd_to_currency\":0.892299455697332,\"currency\":\"AUD\",\"one_eur_to_currency\":0.6476309449451235},{\"one_usd_to_currency\":0.5586592178770949,\"currency\":\"AWG\",\"one_eur_to_currency\":0.40547486033519553},{\"one_usd_to_currency\":1.2748597654258031,\"currency\":\"AZN\",\"one_eur_to_currency\":0.925293217746048},{\"one_usd_to_currency\":0.7028888732691361,\"currency\":\"BAM\",\"one_eur_to_currency\":0.510156744218739},{\"one_usd_to_currency\":0.5,\"currency\":\"BBD\",\"one_eur_to_currency\":0.3629},{\"one_usd_to_currency\":0.012965140626397803,\"currency\":\"BDT\",\"one_eur_to_currency\":0.009410099066639525},{\"one_usd_to_currency\":0.7039774727208729,\"currency\":\"BGN\",\"one_eur_to_currency\":0.5109468497008095},{\"one_usd_to_currency\":2.6525198938992043,\"currency\":\"BHD\",\"one_eur_to_currency\":1.9251989389920423},{\"one_usd_to_currency\":6.430868167202572E-4,\"currency\":\"BIF\",\"one_eur_to_currency\":4.667524115755627E-4},{\"one_usd_to_currency\":1,\"currency\":\"BMD\",\"one_eur_to_currency\":0.7258},{\"one_usd_to_currency\":0.7887679444707367,\"currency\":\"BND\",\"one_eur_to_currency\":0.5724877740968607},{\"one_usd_to_currency\":0.1447178002894356,\"currency\":\"BOB\",\"one_eur_to_currency\":0.10503617945007236},{\"one_usd_to_currency\":0.42764283270612385,\"currency\":\"BRL\",\"one_eur_to_currency\":0.3103831679781047},{\"one_usd_to_currency\":1,\"currency\":\"BSD\",\"one_eur_to_currency\":0.7258},{\"one_usd_to_currency\":0.016121257651551913,\"currency\":\"BTN\",\"one_eur_to_currency\":0.011700808803496377},{\"one_usd_to_currency\":0.11270018370129942,\"currency\":\"BWP\",\"one_eur_to_currency\":0.08179779333040313},{\"one_usd_to_currency\":0.5,\"currency\":\"BZD\",\"one_eur_to_currency\":0.3629},{\"one_usd_to_currency\":0.9013068949977467,\"currency\":\"CAD\",\"one_eur_to_currency\":0.6541685443893646},{\"one_usd_to_currency\":0.0010834236186348862,\"currency\":\"CDF\",\"one_eur_to_currency\":7.863488624052005E-4},{\"one_usd_to_currency\":1.1363636363636365,\"currency\":\"CHF\",\"one_eur_to_currency\":0.8247727272727273},{\"one_usd_to_currency\":42.19409282700422,\"currency\":\"CLF\",\"one_eur_to_currency\":30.62447257383966},{\"one_usd_to_currency\":0.0017898693395382137,\"currency\":\"CLP\",\"one_eur_to_currency\":0.0012990871666368354},{\"one_usd_to_currency\":0.16335064850207454,\"currency\":\"CNH\",\"one_eur_to_currency\":0.11855990068280572},{\"one_usd_to_currency\":0.16269156932287768,\"currency\":\"CNY\",\"one_eur_to_currency\":0.11808154101454463},{\"one_usd_to_currency\":4.884004884004884E-4,\"currency\":\"COP\",\"one_eur_to_currency\":3.5448107448107443E-4},{\"one_usd_to_currency\":0.0019723865877712033,\"currency\":\"CRC\",\"one_eur_to_currency\":0.0014315581854043393},{\"one_usd_to_currency\":0.012518793839251174,\"currency\":\"CVE\",\"one_eur_to_currency\":0.009086140568528503},{\"one_usd_to_currency\":0.050352467270896276,\"currency\":\"CZK\",\"one_eur_to_currency\":0.03654582074521651},{\"one_usd_to_currency\":0.005555555555555556,\"currency\":\"DJF\",\"one_eur_to_currency\":0.004032222222222222},{\"one_usd_to_currency\":0.1846142485277014,\"currency\":\"DKK\",\"one_eur_to_currency\":0.13399302158140566},{\"one_usd_to_currency\":0.023234200743494426,\"currency\":\"DOP\",\"one_eur_to_currency\":0.016863382899628254},{\"one_usd_to_currency\":0.012890767503406385,\"currency\":\"DZD\",\"one_eur_to_currency\":0.009356119053972354},{\"one_usd_to_currency\":0.14365752047119665,\"currency\":\"EGP\",\"one_eur_to_currency\":0.10426662835799455},{\"one_usd_to_currency\":0.06688963210702341,\"currency\":\"ERN\",\"one_eur_to_currency\":0.048548494983277596},{\"one_usd_to_currency\":1.3777900248002204,\"currency\":\"EUR\",\"one_eur_to_currency\":1},{\"one_usd_to_currency\":0.5339028296849974,\"currency\":\"FJD\",\"one_eur_to_currency\":0.38750667378537107},{\"one_usd_to_currency\":1.6719612104999164,\"currency\":\"FKP\",\"one_eur_to_currency\":1.2135094465808394},{\"one_usd_to_currency\":1.6736401673640167,\"currency\":\"GBP\",\"one_eur_to_currency\":1.2147280334728032},{\"one_usd_to_currency\":0.5746796161140164,\"currency\":\"GEL\",\"one_eur_to_currency\":0.4171024653755531},{\"one_usd_to_currency\":1.6719612104999164,\"currency\":\"GIP\",\"one_eur_to_currency\":1.2135094465808394},{\"one_usd_to_currency\":0.026212319790301444,\"currency\":\"GMD\",\"one_eur_to_currency\":0.019024901703800785},{\"one_usd_to_currency\":1.422475106685633E-4,\"currency\":\"GNF\",\"one_eur_to_currency\":1.0324324324324324E-4},{\"one_usd_to_currency\":0.12910722354915757,\"currency\":\"GTQ\",\"one_eur_to_currency\":0.09370602285197857},{\"one_usd_to_currency\":0.004873296721879494,\"currency\":\"GYD\",\"one_eur_to_currency\":0.003537038760740137},{\"one_usd_to_currency\":0.12888092691162634,\"currency\":\"HKD\",\"one_eur_to_currency\":0.09354177675245841},{\"one_usd_to_currency\":0.0511770726714432,\"currency\":\"HNL\",\"one_eur_to_currency\":0.037144319344933466},{\"one_usd_to_currency\":0.18007959518107003,\"currency\":\"HRK\",\"one_eur_to_currency\":0.13070177018242063},{\"one_usd_to_currency\":0.02255299954894001,\"currency\":\"HTG\",\"one_eur_to_currency\":0.016368967072620658},{\"one_usd_to_currency\":0.004402183483007572,\"currency\":\"HUF\",\"one_eur_to_currency\":0.0031951047719668956},{\"one_usd_to_currency\":8.626266982963122E-5,\"currency\":\"IDR\",\"one_eur_to_currency\":6.260944576234634E-5},{\"one_usd_to_currency\":0.28663972253274855,\"currency\":\"ILS\",\"one_eur_to_currency\":0.20804311061426892},{\"one_usd_to_currency\":0.016115386164940976,\"currency\":\"INR\",\"one_eur_to_currency\":0.011696547278514161},{\"one_usd_to_currency\":8.59106529209622E-4,\"currency\":\"IQD\",\"one_eur_to_currency\":6.235395189003436E-4},{\"one_usd_to_currency\":0.008890872541340335,\"currency\":\"ISK\",\"one_eur_to_currency\":0.006452995290504815},{\"one_usd_to_currency\":0.009263556520200575,\"currency\":\"JMD\",\"one_eur_to_currency\":0.006723489322361577},{\"one_usd_to_currency\":1.4124293785310735,\"currency\":\"JOD\",\"one_eur_to_currency\":1.025141242937853},{\"one_usd_to_currency\":0.009877967588412749,\"currency\":\"JPY\",\"one_eur_to_currency\":0.007169428875669973},{\"one_usd_to_currency\":0.0115901849677619,\"currency\":\"KES\",\"one_eur_to_currency\":0.008412156249601588},{\"one_usd_to_currency\":0.019070903712914245,\"currency\":\"KGS\",\"one_eur_to_currency\":0.013841661914833159},{\"one_usd_to_currency\":2.5106703489831785E-4,\"currency\":\"KHR\",\"one_eur_to_currency\":1.822244539291991E-4},{\"one_usd_to_currency\":0.002801403727379715,\"currency\":\"KMF\",\"one_eur_to_currency\":0.002033258825332197},{\"one_usd_to_currency\":0.0011111111111111111,\"currency\":\"KPW\",\"one_eur_to_currency\":8.064444444444444E-4},{\"one_usd_to_currency\":9.339248190520663E-4,\"currency\":\"KRW\",\"one_eur_to_currency\":6.778426336679897E-4},{\"one_usd_to_currency\":3.5561877667140824,\"currency\":\"KWD\",\"one_eur_to_currency\":2.581081081081081},{\"one_usd_to_currency\":1.2195121951219512,\"currency\":\"KYD\",\"one_eur_to_currency\":0.8851219512195121},{\"one_usd_to_currency\":0.005465376837732962,\"currency\":\"KZT\",\"one_eur_to_currency\":0.003966770508826584},{\"one_usd_to_currency\":1.2444776305145915E-4,\"currency\":\"LAK\",\"one_eur_to_currency\":9.032418642274905E-5},{\"one_usd_to_currency\":6.642311524410495E-4,\"currency\":\"LBP\",\"one_eur_to_currency\":4.8209897044171373E-4},{\"one_usd_to_currency\":0.007655502392344498,\"currency\":\"LKR\",\"one_eur_to_currency\":0.005556363636363636},{\"one_usd_to_currency\":0.011695906432748537,\"currency\":\"LRD\",\"one_eur_to_currency\":0.00848888888888889},{\"one_usd_to_currency\":0.09324009324009325,\"currency\":\"LSL\",\"one_eur_to_currency\":0.06767365967365967},{\"one_usd_to_currency\":0.8049585446349513,\"currency\":\"LYD\",\"one_eur_to_currency\":0.5842389116960477},{\"one_usd_to_currency\":0.12277621579147688,\"currency\":\"MAD\",\"one_eur_to_currency\":0.08911097742145392},{\"one_usd_to_currency\":0.07336757153338225,\"currency\":\"MDL\",\"one_eur_to_currency\":0.05325018341892883},{\"one_usd_to_currency\":4.2826552462526765E-4,\"currency\":\"MGA\",\"one_eur_to_currency\":3.108351177730193E-4},{\"one_usd_to_currency\":0.022361359570661897,\"currency\":\"MKD\",\"one_eur_to_currency\":0.016229874776386405},{\"one_usd_to_currency\":5.756853534132385E-4,\"currency\":\"MNT\",\"one_eur_to_currency\":4.178324295073285E-4},{\"one_usd_to_currency\":0.12512669077440908,\"currency\":\"MOP\",\"one_eur_to_currency\":0.09081695216406611},{\"one_usd_to_currency\":0.0034542314335060447,\"currency\":\"MRO\",\"one_eur_to_currency\":0.0025070811744386874},{\"one_usd_to_currency\":0.03300340925217575,\"currency\":\"MUR\",\"one_eur_to_currency\":0.023953874435229162},{\"one_usd_to_currency\":0.06514657980456026,\"currency\":\"MVR\",\"one_eur_to_currency\":0.047283387622149835},{\"one_usd_to_currency\":0.002380669534738611,\"currency\":\"MWK\",\"one_eur_to_currency\":0.0017278899483132838},{\"one_usd_to_currency\":0.07525247204370664,\"currency\":\"MXN\",\"one_eur_to_currency\":0.05461824420932228},{\"one_usd_to_currency\":0.30464584920030463,\"currency\":\"MYR\",\"one_eur_to_currency\":0.2211119573495811},{\"one_usd_to_currency\":0.03095984817290456,\"currency\":\"MZN\",\"one_eur_to_currency\":0.022470657803894126},{\"one_usd_to_currency\":0.0930925339787749,\"currency\":\"NAD\",\"one_eur_to_currency\":0.06756656116179482},{\"one_usd_to_currency\":0.006070543356124177,\"currency\":\"NGN\",\"one_eur_to_currency\":0.004406000367874927},{\"one_usd_to_currency\":0.038797284190106696,\"currency\":\"NIO\",\"one_eur_to_currency\":0.028159068865179437},{\"one_usd_to_currency\":0.16546429280561256,\"currency\":\"NOK\",\"one_eur_to_currency\":0.12009398371831359},{\"one_usd_to_currency\":0.01007455168245013,\"currency\":\"NPR\",\"one_eur_to_currency\":0.007312109611122305},{\"one_usd_to_currency\":0.8365400702693659,\"currency\":\"NZD\",\"one_eur_to_currency\":0.6071607830015058},{\"one_usd_to_currency\":2.5974025974025974,\"currency\":\"OMR\",\"one_eur_to_currency\":1.885194805194805},{\"one_usd_to_currency\":1,\"currency\":\"PAB\",\"one_eur_to_currency\":0.7258},{\"one_usd_to_currency\":0.35739814152966404,\"currency\":\"PEN\",\"one_eur_to_currency\":0.25939957112223017},{\"one_usd_to_currency\":0.3798814769791825,\"currency\":\"PGK\",\"one_eur_to_currency\":0.27571797599149067},{\"one_usd_to_currency\":0.022371364653243846,\"currency\":\"PHP\",\"one_eur_to_currency\":0.016237136465324386},{\"one_usd_to_currency\":0.009527448101608329,\"currency\":\"PKR\",\"one_eur_to_currency\":0.006915021832147325},{\"one_usd_to_currency\":0.3284611594678929,\"currency\":\"PLN\",\"one_eur_to_currency\":0.23839710954179666},{\"one_usd_to_currency\":2.2541511715375907E-4,\"currency\":\"PYG\",\"one_eur_to_currency\":1.6360629203019831E-4},{\"one_usd_to_currency\":0.27461211039406835,\"currency\":\"QAR\",\"one_eur_to_currency\":0.1993134697240148},{\"one_usd_to_currency\":0.30483158055174514,\"currency\":\"RON\",\"one_eur_to_currency\":0.22124676116445666},{\"one_usd_to_currency\":0.0118609188653845,\"currency\":\"RSD\",\"one_eur_to_currency\":0.008608654912496072},{\"one_usd_to_currency\":0.027389381136933212,\"currency\":\"RUB\",\"one_eur_to_currency\":0.019879212829186126},{\"one_usd_to_currency\":0.0014695077149155032,\"currency\":\"RWF\",\"one_eur_to_currency\":0.0010665686994856722},{\"one_usd_to_currency\":0.26663111585121985,\"currency\":\"SAR\",\"one_eur_to_currency\":0.19352086388481535},{\"one_usd_to_currency\":0.1374646028647623,\"currency\":\"SBD\",\"one_eur_to_currency\":0.0997718087592445},{\"one_usd_to_currency\":0.08233569911242115,\"currency\":\"SCR\",\"one_eur_to_currency\":0.05975925041579528},{\"one_usd_to_currency\":0.17561729479119104,\"currency\":\"SDG\",\"one_eur_to_currency\":0.12746303255944647},{\"one_usd_to_currency\":0.15541464627626508,\"currency\":\"SEK\",\"one_eur_to_currency\":0.1127999502673132},{\"one_usd_to_currency\":0.7886435331230284,\"currency\":\"SGD\",\"one_eur_to_currency\":0.572397476340694},{\"one_usd_to_currency\":1.6719612104999164,\"currency\":\"SHP\",\"one_eur_to_currency\":1.2135094465808394},{\"one_usd_to_currency\":2.304147465437788E-4,\"currency\":\"SLL\",\"one_eur_to_currency\":1.6723502304147466E-4},{\"one_usd_to_currency\":9.293680297397769E-4,\"currency\":\"SOS\",\"one_eur_to_currency\":6.745353159851302E-4},{\"one_usd_to_currency\":0.3053435114503817,\"currency\":\"SRD\",\"one_eur_to_currency\":0.22161832061068704},{\"one_usd_to_currency\":5.629045876723895E-5,\"currency\":\"STD\",\"one_eur_to_currency\":4.0855614973262026E-5},{\"one_usd_to_currency\":0.11431837667905115,\"currency\":\"SVC\",\"one_eur_to_currency\":0.08297227779365533},{\"one_usd_to_currency\":0.006980802792321117,\"currency\":\"SYP\",\"one_eur_to_currency\":0.005066666666666666},{\"one_usd_to_currency\":0.09357162908206232,\"currency\":\"SZL\",\"one_eur_to_currency\":0.06791428838776083},{\"one_usd_to_currency\":0.03070790943623349,\"currency\":\"THB\",\"one_eur_to_currency\":0.022287800668818268},{\"one_usd_to_currency\":0.20801264716894785,\"currency\":\"TJS\",\"one_eur_to_currency\":0.15097557931522237},{\"one_usd_to_currency\":0.3508771929824561,\"currency\":\"TMT\",\"one_eur_to_currency\":0.25466666666666665},{\"one_usd_to_currency\":0.6356470887363336,\"currency\":\"TND\",\"one_eur_to_currency\":0.46135265700483086},{\"one_usd_to_currency\":0.5364806866952789,\"currency\":\"TOP\",\"one_eur_to_currency\":0.3893776824034335},{\"one_usd_to_currency\":0.4508769556787952,\"currency\":\"TRY\",\"one_eur_to_currency\":0.32724649443166964},{\"one_usd_to_currency\":0.15661707126076743,\"currency\":\"TTD\",\"one_eur_to_currency\":0.113672670321065},{\"one_usd_to_currency\":0.032998944033790924,\"currency\":\"TWD\",\"one_eur_to_currency\":0.02395063357972545},{\"one_usd_to_currency\":6.159531875577456E-4,\"currency\":\"TZS\",\"one_eur_to_currency\":4.470588235294118E-4},{\"one_usd_to_currency\":0.10303967027305512,\"currency\":\"UAH\",\"one_eur_to_currency\":0.07478619268418342},{\"one_usd_to_currency\":3.944773175542406E-4,\"currency\":\"UGX\",\"one_eur_to_currency\":2.8631163708086785E-4},{\"one_usd_to_currency\":1,\"currency\":\"USD\",\"one_eur_to_currency\":0.7258},{\"one_usd_to_currency\":0.044543429844097995,\"currency\":\"UYU\",\"one_eur_to_currency\":0.03232962138084632},{\"one_usd_to_currency\":4.742708086317287E-5,\"currency\":\"VND\",\"one_eur_to_currency\":3.442257529049087E-5},{\"one_usd_to_currency\":0.010414507825981904,\"currency\":\"VUV\",\"one_eur_to_currency\":0.007558849780097667},{\"one_usd_to_currency\":0.4249532551419343,\"currency\":\"WST\",\"one_eur_to_currency\":0.30843107258201596},{\"one_usd_to_currency\":0.0021010526483873685,\"currency\":\"XAF\",\"one_eur_to_currency\":0.0015249440121995522},{\"one_usd_to_currency\":0.37037037037037035,\"currency\":\"XCD\",\"one_eur_to_currency\":0.26881481481481484},{\"one_usd_to_currency\":1.5482272797646695,\"currency\":\"XDR\",\"one_eur_to_currency\":1.1237033596531971},{\"one_usd_to_currency\":0.0020909566126502874,\"currency\":\"XOF\",\"one_eur_to_currency\":0.0015176163094615788},{\"one_usd_to_currency\":0.011594202898550725,\"currency\":\"XPF\",\"one_eur_to_currency\":0.008415072463768117},{\"one_usd_to_currency\":0.004655387283995849,\"currency\":\"YER\",\"one_eur_to_currency\":0.003378880090724187},{\"one_usd_to_currency\":0.09303537204845283,\"currency\":\"ZAR\",\"one_eur_to_currency\":0.06752507303276706},{\"one_usd_to_currency\":0.17152658662092624,\"currency\":\"ZMW\",\"one_eur_to_currency\":0.12449399656946826},{\"one_usd_to_currency\":0.0031021699678925405,\"currency\":\"ZWL\",\"one_eur_to_currency\":0.0022515549626964063}]}\\n'"
      ]
     },
     "execution_count": 4,
     "metadata": {},
     "output_type": "execute_result"
    }
   ],
   "source": [
    "#json_parse = json.loads(request.text)\n",
    "request.text"
   ]
  },
  {
   "cell_type": "code",
   "execution_count": 5,
   "metadata": {},
   "outputs": [
    {
     "data": {
      "text/html": [
       "<div>\n",
       "<style scoped>\n",
       "    .dataframe tbody tr th:only-of-type {\n",
       "        vertical-align: middle;\n",
       "    }\n",
       "\n",
       "    .dataframe tbody tr th {\n",
       "        vertical-align: top;\n",
       "    }\n",
       "\n",
       "    .dataframe thead th {\n",
       "        text-align: right;\n",
       "    }\n",
       "</style>\n",
       "<table border=\"1\" class=\"dataframe\">\n",
       "  <thead>\n",
       "    <tr style=\"text-align: right;\">\n",
       "      <th></th>\n",
       "      <th>currency</th>\n",
       "      <th>one_eur_to_currency</th>\n",
       "      <th>one_usd_to_currency</th>\n",
       "    </tr>\n",
       "  </thead>\n",
       "  <tbody>\n",
       "    <tr>\n",
       "      <th>0</th>\n",
       "      <td>AED</td>\n",
       "      <td>0.197604</td>\n",
       "      <td>0.272257</td>\n",
       "    </tr>\n",
       "    <tr>\n",
       "      <th>1</th>\n",
       "      <td>AFN</td>\n",
       "      <td>0.012864</td>\n",
       "      <td>0.017724</td>\n",
       "    </tr>\n",
       "    <tr>\n",
       "      <th>2</th>\n",
       "      <td>ALL</td>\n",
       "      <td>0.007137</td>\n",
       "      <td>0.009833</td>\n",
       "    </tr>\n",
       "    <tr>\n",
       "      <th>3</th>\n",
       "      <td>AMD</td>\n",
       "      <td>0.001757</td>\n",
       "      <td>0.002420</td>\n",
       "    </tr>\n",
       "    <tr>\n",
       "      <th>4</th>\n",
       "      <td>ANG</td>\n",
       "      <td>0.405475</td>\n",
       "      <td>0.558659</td>\n",
       "    </tr>\n",
       "  </tbody>\n",
       "</table>\n",
       "</div>"
      ],
      "text/plain": [
       "  currency  one_eur_to_currency  one_usd_to_currency\n",
       "0      AED             0.197604             0.272257\n",
       "1      AFN             0.012864             0.017724\n",
       "2      ALL             0.007137             0.009833\n",
       "3      AMD             0.001757             0.002420\n",
       "4      ANG             0.405475             0.558659"
      ]
     },
     "execution_count": 5,
     "metadata": {},
     "output_type": "execute_result"
    }
   ],
   "source": [
    "df= json_normalize(json.loads(request.text)['exchange_rates'])\n",
    "df.head()"
   ]
  },
  {
   "cell_type": "code",
   "execution_count": 6,
   "metadata": {},
   "outputs": [
    {
     "data": {
      "text/html": [
       "<div>\n",
       "<style scoped>\n",
       "    .dataframe tbody tr th:only-of-type {\n",
       "        vertical-align: middle;\n",
       "    }\n",
       "\n",
       "    .dataframe tbody tr th {\n",
       "        vertical-align: top;\n",
       "    }\n",
       "\n",
       "    .dataframe thead th {\n",
       "        text-align: right;\n",
       "    }\n",
       "</style>\n",
       "<table border=\"1\" class=\"dataframe\">\n",
       "  <thead>\n",
       "    <tr style=\"text-align: right;\">\n",
       "      <th></th>\n",
       "      <th>exchange_rates</th>\n",
       "      <th>month</th>\n",
       "      <th>year</th>\n",
       "    </tr>\n",
       "  </thead>\n",
       "  <tbody>\n",
       "    <tr>\n",
       "      <th>0</th>\n",
       "      <td>[{'one_eur_to_currency': 0.19760413830656137, ...</td>\n",
       "      <td>3</td>\n",
       "      <td>2014</td>\n",
       "    </tr>\n",
       "  </tbody>\n",
       "</table>\n",
       "</div>"
      ],
      "text/plain": [
       "                                      exchange_rates  month  year\n",
       "0  [{'one_eur_to_currency': 0.19760413830656137, ...      3  2014"
      ]
     },
     "execution_count": 6,
     "metadata": {},
     "output_type": "execute_result"
    }
   ],
   "source": [
    "df= json_normalize(json.loads(request.text))\n",
    "df.head()"
   ]
  },
  {
   "cell_type": "code",
   "execution_count": null,
   "metadata": {},
   "outputs": [],
   "source": []
  }
 ],
 "metadata": {
  "kernelspec": {
   "display_name": "Python 3",
   "language": "python",
   "name": "python3"
  },
  "language_info": {
   "codemirror_mode": {
    "name": "ipython",
    "version": 3
   },
   "file_extension": ".py",
   "mimetype": "text/x-python",
   "name": "python",
   "nbconvert_exporter": "python",
   "pygments_lexer": "ipython3",
   "version": "3.5.0"
  }
 },
 "nbformat": 4,
 "nbformat_minor": 2
}
