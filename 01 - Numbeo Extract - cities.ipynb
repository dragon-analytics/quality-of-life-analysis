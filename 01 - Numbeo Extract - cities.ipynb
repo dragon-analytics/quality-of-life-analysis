{
 "cells": [
  {
   "cell_type": "markdown",
   "metadata": {},
   "source": [
    "## Numbeo Extract - cities"
   ]
  },
  {
   "cell_type": "markdown",
   "metadata": {},
   "source": [
    "To extract from the API of NUmbeo follow the next steps:\n",
    "- Access the url prefix with a request method e.g. `https://www.numbeo.com:8008/api/<DOCUMENT>?api_key=<YOUR_KEY>`\n",
    "- Every document (table) in Numbeo has different parameters to query, for more info go to [API doc](https://www.numbeo.com/api/doc.jsp)"
   ]
  },
  {
   "cell_type": "code",
   "execution_count": 2,
   "metadata": {},
   "outputs": [],
   "source": [
    "import pandas as pd\n",
    "import requests\n",
    "import json\n",
    "from pandas.io.json import json_normalize"
   ]
  },
  {
   "cell_type": "markdown",
   "metadata": {},
   "source": [
    "**Query parameters:**"
   ]
  },
  {
   "cell_type": "markdown",
   "metadata": {},
   "source": [
    "Parameter name|Description|Mandatory\n",
    "---|---|---\n",
    "api_key|API Key|yes"
   ]
  },
  {
   "cell_type": "code",
   "execution_count": 3,
   "metadata": {},
   "outputs": [],
   "source": [
    "request = requests.get(\"http://www.numbeo.com:8008/api/cities?api_key=\")"
   ]
  },
  {
   "cell_type": "code",
   "execution_count": 4,
   "metadata": {},
   "outputs": [
    {
     "data": {
      "text/html": [
       "<div>\n",
       "<style scoped>\n",
       "    .dataframe tbody tr th:only-of-type {\n",
       "        vertical-align: middle;\n",
       "    }\n",
       "\n",
       "    .dataframe tbody tr th {\n",
       "        vertical-align: top;\n",
       "    }\n",
       "\n",
       "    .dataframe thead th {\n",
       "        text-align: right;\n",
       "    }\n",
       "</style>\n",
       "<table border=\"1\" class=\"dataframe\">\n",
       "  <thead>\n",
       "    <tr style=\"text-align: right;\">\n",
       "      <th></th>\n",
       "      <th>city</th>\n",
       "      <th>city_id</th>\n",
       "      <th>country</th>\n",
       "      <th>latitude</th>\n",
       "      <th>longitude</th>\n",
       "    </tr>\n",
       "  </thead>\n",
       "  <tbody>\n",
       "    <tr>\n",
       "      <th>0</th>\n",
       "      <td>Abelessa</td>\n",
       "      <td>1</td>\n",
       "      <td>Algeria</td>\n",
       "      <td>22.187777</td>\n",
       "      <td>4.069545</td>\n",
       "    </tr>\n",
       "    <tr>\n",
       "      <th>1</th>\n",
       "      <td>Adrar</td>\n",
       "      <td>2</td>\n",
       "      <td>Algeria</td>\n",
       "      <td>27.875614</td>\n",
       "      <td>-0.290750</td>\n",
       "    </tr>\n",
       "    <tr>\n",
       "      <th>2</th>\n",
       "      <td>Aflu</td>\n",
       "      <td>3</td>\n",
       "      <td>Algeria</td>\n",
       "      <td>34.113883</td>\n",
       "      <td>2.097262</td>\n",
       "    </tr>\n",
       "    <tr>\n",
       "      <th>3</th>\n",
       "      <td>Algiers</td>\n",
       "      <td>4</td>\n",
       "      <td>Algeria</td>\n",
       "      <td>36.752887</td>\n",
       "      <td>3.042048</td>\n",
       "    </tr>\n",
       "    <tr>\n",
       "      <th>4</th>\n",
       "      <td>Annaba</td>\n",
       "      <td>5</td>\n",
       "      <td>Algeria</td>\n",
       "      <td>36.902859</td>\n",
       "      <td>7.755543</td>\n",
       "    </tr>\n",
       "  </tbody>\n",
       "</table>\n",
       "</div>"
      ],
      "text/plain": [
       "       city  city_id  country   latitude  longitude\n",
       "0  Abelessa        1  Algeria  22.187777   4.069545\n",
       "1     Adrar        2  Algeria  27.875614  -0.290750\n",
       "2      Aflu        3  Algeria  34.113883   2.097262\n",
       "3   Algiers        4  Algeria  36.752887   3.042048\n",
       "4    Annaba        5  Algeria  36.902859   7.755543"
      ]
     },
     "execution_count": 4,
     "metadata": {},
     "output_type": "execute_result"
    }
   ],
   "source": [
    "df = json_normalize(json.loads(request.text)['cities'])\n",
    "df.head()"
   ]
  },
  {
   "cell_type": "code",
   "execution_count": 5,
   "metadata": {},
   "outputs": [
    {
     "data": {
      "text/plain": [
       "0            1\n",
       "1            2\n",
       "2            3\n",
       "3            4\n",
       "4            5\n",
       "5            6\n",
       "6            7\n",
       "7            8\n",
       "8            9\n",
       "9           10\n",
       "10          11\n",
       "11          12\n",
       "12          13\n",
       "13          14\n",
       "14          15\n",
       "15          16\n",
       "16          17\n",
       "17          18\n",
       "18          19\n",
       "19          20\n",
       "20          21\n",
       "21          22\n",
       "22          23\n",
       "23          24\n",
       "24          25\n",
       "25          26\n",
       "26          27\n",
       "27          28\n",
       "28          29\n",
       "29          30\n",
       "         ...  \n",
       "13504    14131\n",
       "13505    14133\n",
       "13506    14135\n",
       "13507    14136\n",
       "13508    14137\n",
       "13509    14142\n",
       "13510    14143\n",
       "13511    14144\n",
       "13512    14145\n",
       "13513    14147\n",
       "13514    14148\n",
       "13515    14149\n",
       "13516    14150\n",
       "13517    14151\n",
       "13518    14152\n",
       "13519    14153\n",
       "13520    14154\n",
       "13521    14155\n",
       "13522    14156\n",
       "13523    14157\n",
       "13524    14158\n",
       "13525    14159\n",
       "13526    14160\n",
       "13527    14161\n",
       "13528    14162\n",
       "13529    14163\n",
       "13530    14164\n",
       "13531    14166\n",
       "13532    14167\n",
       "13533    14168\n",
       "Name: city_id, Length: 13534, dtype: int64"
      ]
     },
     "execution_count": 5,
     "metadata": {},
     "output_type": "execute_result"
    }
   ],
   "source": [
    "df['city_id']"
   ]
  },
  {
   "cell_type": "code",
   "execution_count": null,
   "metadata": {},
   "outputs": [],
   "source": []
  }
 ],
 "metadata": {
  "kernelspec": {
   "display_name": "Python 3",
   "language": "python",
   "name": "python3"
  },
  "language_info": {
   "codemirror_mode": {
    "name": "ipython",
    "version": 3
   },
   "file_extension": ".py",
   "mimetype": "text/x-python",
   "name": "python",
   "nbconvert_exporter": "python",
   "pygments_lexer": "ipython3",
   "version": "3.6.5"
  }
 },
 "nbformat": 4,
 "nbformat_minor": 2
}
